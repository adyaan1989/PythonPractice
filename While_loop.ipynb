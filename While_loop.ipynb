{
 "cells": [
  {
   "cell_type": "code",
   "execution_count": 3,
   "metadata": {},
   "outputs": [
    {
     "name": "stdout",
     "output_type": "stream",
     "text": [
      "1\n",
      "2\n",
      "3\n",
      "4\n",
      "5\n",
      "6\n",
      "7\n",
      "8\n",
      "9\n",
      "10\n"
     ]
    }
   ],
   "source": [
    "i = 0\n",
    "while i < 10:\n",
    "    #print(i)\n",
    "    i = i + 1\n",
    "    print(i)\n",
    "    "
   ]
  },
  {
   "cell_type": "code",
   "execution_count": 2,
   "metadata": {},
   "outputs": [
    {
     "name": "stdout",
     "output_type": "stream",
     "text": [
      "What is your Age: 12\n",
      "Your age is12\n"
     ]
    }
   ],
   "source": [
    "Age = input('What is your Age: ')\n",
    "print('Your age is' + Age)"
   ]
  },
  {
   "cell_type": "code",
   "execution_count": null,
   "metadata": {},
   "outputs": [],
   "source": [
    "Location = input('Where do you put up')"
   ]
  },
  {
   "cell_type": "code",
   "execution_count": 2,
   "metadata": {},
   "outputs": [
    {
     "name": "stdout",
     "output_type": "stream",
     "text": [
      "1\n",
      "4\n",
      "9\n",
      "16\n",
      "25\n",
      "36\n",
      "49\n",
      "64\n",
      "81\n",
      "100\n"
     ]
    }
   ],
   "source": [
    "i = 1\n",
    "while i <= 10:\n",
    "    print(i**2)\n",
    "    i = i +1\n",
    "    "
   ]
  },
  {
   "cell_type": "code",
   "execution_count": 4,
   "metadata": {},
   "outputs": [
    {
     "name": "stdout",
     "output_type": "stream",
     "text": [
      "New Number: 1\n",
      "Number too small\n",
      "New Number: 2\n",
      "Number too small\n",
      "New Number: 3\n",
      "Number too small\n",
      "New Number: 4\n",
      "Number too small\n",
      "New Number: 9\n",
      "Number too larg\n",
      "New Number: 87\n",
      "Number too larg\n",
      "New Number: 89\n",
      "Number too larg\n",
      "New Number: 29\n",
      "Number too larg\n",
      "New Number: 1\n",
      "Number too small\n",
      "New Number: 1\n",
      "Number too small\n",
      "New Number: 1\n",
      "Number too small\n",
      "New Number: 1\n",
      "Number too small\n",
      "New Number: 2\n",
      "Number too small\n",
      "New Number: 3\n",
      "Number too small\n",
      "New Number: 3\n",
      "Number too small\n",
      "New Number: 4\n",
      "Number too small\n",
      "New Number: 45\n",
      "Number too larg\n",
      "New Number: 6\n",
      "Congratualtion! you made it\n"
     ]
    }
   ],
   "source": [
    "import random\n",
    "\n",
    "n = 20\n",
    "\n",
    "to_be_guessed = int(n * random.random()) + 1\n",
    "guess = 0\n",
    "\n",
    "while guess != to_be_guessed:\n",
    "    guess = int(input(\"New Number: \"))\n",
    "    if guess > 0:\n",
    "        if guess > to_be_guessed:\n",
    "            print(\"Number too larg\")\n",
    "        elif guess < to_be_guessed:\n",
    "            print(\"Number too small\")\n",
    "    else:\n",
    "        print(\"Sorry that you are giving up!\")\n",
    "        break\n",
    "else:\n",
    "    print(\"Congratualtion! you made it\")\n",
    "            \n",
    "            \n",
    "    "
   ]
  },
  {
   "cell_type": "code",
   "execution_count": 5,
   "metadata": {},
   "outputs": [
    {
     "name": "stdout",
     "output_type": "stream",
     "text": [
      "6\n"
     ]
    }
   ],
   "source": [
    "print(to_be_guessed)"
   ]
  },
  {
   "cell_type": "code",
   "execution_count": 10,
   "metadata": {},
   "outputs": [
    {
     "name": "stdout",
     "output_type": "stream",
     "text": [
      "hey say somthing: he\n",
      "hey say somthing: hey\n",
      "hey say somthing: hello\n",
      "hey say somthing: byeee\n"
     ]
    }
   ],
   "source": [
    "while True:\n",
    "    response = input('hey say somthing: ')\n",
    "    if (response == 'bye' or response == 'Bye' or response == 'Tata' or response == \"byeee\"):\n",
    "        break"
   ]
  },
  {
   "cell_type": "code",
   "execution_count": null,
   "metadata": {},
   "outputs": [],
   "source": []
  }
 ],
 "metadata": {
  "kernelspec": {
   "display_name": "Python 3",
   "language": "python",
   "name": "python3"
  },
  "language_info": {
   "codemirror_mode": {
    "name": "ipython",
    "version": 3
   },
   "file_extension": ".py",
   "mimetype": "text/x-python",
   "name": "python",
   "nbconvert_exporter": "python",
   "pygments_lexer": "ipython3",
   "version": "3.8.5"
  }
 },
 "nbformat": 4,
 "nbformat_minor": 2
}
