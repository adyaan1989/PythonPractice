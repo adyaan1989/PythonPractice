{
 "cells": [
  {
   "cell_type": "markdown",
   "metadata": {},
   "source": [
    "### Part 1\n",
    "\n",
    "**Answer the following questions.**\n",
    "\n",
    "- What is a class?\n",
    "- What is an instance?\n",
    "- What is encapsulation?\n",
    "- What is abstraction?\n",
    "- What is inheritance?\n",
    "- What is multiple inheritance?\n",
    "- What is polymorphism?\n",
    "- What is method resolution order or MRO?\n",
    "    "
   ]
  },
  {
   "cell_type": "markdown",
   "metadata": {},
   "source": [
    "### Part 2\n",
    "\n",
    "Create a deck of cards class. Internally, the deck of cards should use another class, a card class. Your requirements are:\n",
    "\n",
    "- The `Deck` class should have a `deal` method to deal a single card from the deck\n",
    "- After a card is dealt, it is removed from the deck.\n",
    "- There should be a `shuffle` method which makes sure the deck of cards has all 52 cards and then rearranges them randomly.\n",
    "- The `Card` class should have a suit (Hearts, Diamonds, Clubs, Spades) and a value (A,2,3,4,5,6,7,8,9,10,J,Q,K)"
   ]
  },
  {
   "cell_type": "code",
   "execution_count": 5,
   "metadata": {},
   "outputs": [],
   "source": [
    "\n",
    "from random import shuffle\n",
    "\n",
    "class Card:\n",
    "    def __init__(self, suit, value):\n",
    "        self.suit = suit\n",
    "        self.value = value\n",
    "        \n",
    "    def __repr__(self):\n",
    "        return \"{} of {}\".format(self.value, self.suit)\n",
    "    \n",
    "class Deck:\n",
    "    def __init__(self):\n",
    "        suits = ['Heart', \"Diamond\", \"Clubs\", \"Speads\"]\n",
    "        values = ['A','2','3','4','5','6','7','8','9','10','J','Q','K']\n",
    "        self.cards = [Card (suit, value) for suit in suits for value in values]\n",
    "    \n",
    "    \n",
    "    def __repr__(self):\n",
    "        return \"Cards remaining in Desk: {}\".format(len(self.cards))\n",
    "    \n",
    "    def shuffle(self):\n",
    "        if len(self.cards) < 52:\n",
    "            raise ValueError(\"Only full decks can be shuffled\")\n",
    "            \n",
    "        shuffle(self.cards)\n",
    "        return self\n",
    "    \n",
    "    def deal(self):\n",
    "        if len(self.cards) == 0:\n",
    "            raise ValueError(\"All cards have been dealt\")\n",
    "            \n",
    "        return self.cards.pop()    \n",
    "        "
   ]
  },
  {
   "cell_type": "code",
   "execution_count": 6,
   "metadata": {},
   "outputs": [
    {
     "ename": "TypeError",
     "evalue": "__init__() missing 2 required positional arguments: 'suit' and 'value'",
     "output_type": "error",
     "traceback": [
      "\u001b[1;31m---------------------------------------------------------------------------\u001b[0m",
      "\u001b[1;31mTypeError\u001b[0m                                 Traceback (most recent call last)",
      "\u001b[1;32m<ipython-input-6-c0537b05a7a9>\u001b[0m in \u001b[0;36m<module>\u001b[1;34m\u001b[0m\n\u001b[1;32m----> 1\u001b[1;33m \u001b[0mCard\u001b[0m\u001b[1;33m(\u001b[0m\u001b[1;33m)\u001b[0m\u001b[1;33m\u001b[0m\u001b[1;33m\u001b[0m\u001b[0m\n\u001b[0m",
      "\u001b[1;31mTypeError\u001b[0m: __init__() missing 2 required positional arguments: 'suit' and 'value'"
     ]
    }
   ],
   "source": [
    "Card()"
   ]
  },
  {
   "cell_type": "code",
   "execution_count": null,
   "metadata": {},
   "outputs": [],
   "source": []
  }
 ],
 "metadata": {
  "kernelspec": {
   "display_name": "Python 3",
   "language": "python",
   "name": "python3"
  },
  "language_info": {
   "codemirror_mode": {
    "name": "ipython",
    "version": 3
   },
   "file_extension": ".py",
   "mimetype": "text/x-python",
   "name": "python",
   "nbconvert_exporter": "python",
   "pygments_lexer": "ipython3",
   "version": "3.8.5"
  }
 },
 "nbformat": 4,
 "nbformat_minor": 2
}
