{
 "cells": [
  {
   "cell_type": "code",
   "execution_count": 48,
   "id": "9e6b4528",
   "metadata": {},
   "outputs": [],
   "source": [
    "# https://pynative.com/python-object-oriented-programming-oop-exercise/"
   ]
  },
  {
   "cell_type": "code",
   "execution_count": 20,
   "id": "5d3831f6",
   "metadata": {},
   "outputs": [],
   "source": [
    "class Personal:\n",
    "    def __init__(self, name, age, location):\n",
    "        self.name = name\n",
    "        self.age = age\n",
    "        self.location = location\n",
    "    def run(self):\n",
    "        pass\n",
    "    \n",
    "person1 = Personal(\"Adyaan\",30, \"Delhi\")\n",
    "person1.designation = \"Manager\"\n",
    "person1.ctc = 500000"
   ]
  },
  {
   "cell_type": "code",
   "execution_count": 23,
   "id": "62a2a9cb",
   "metadata": {},
   "outputs": [
    {
     "name": "stdout",
     "output_type": "stream",
     "text": [
      "Delhi\n",
      "Manager\n",
      "500000\n"
     ]
    }
   ],
   "source": [
    "print(person1.location)\n",
    "print(person1.designation)\n",
    "print(person1.ctc)"
   ]
  },
  {
   "cell_type": "code",
   "execution_count": 32,
   "id": "7c39c9ba",
   "metadata": {},
   "outputs": [
    {
     "name": "stdout",
     "output_type": "stream",
     "text": [
      "Adyaan ML DCM Deep Learning\n"
     ]
    }
   ],
   "source": [
    "class employee:\n",
    "    def __init__(self,name, office, dep, function):\n",
    "        self.name = name\n",
    "        self.office = office\n",
    "        self.dep = dep\n",
    "        self.function = function\n",
    "        \n",
    "    def run():\n",
    "        print(\"done\")\n",
    "        \n",
    "emp = employee(\"Adyaan\",\"DCM\",\"ML\",\"Deep Learning\")\n",
    "#print(emp)\n",
    "#print(emp.name)\n",
    "print(emp.name, emp.dep, emp.office, emp.function)\n"
   ]
  },
  {
   "cell_type": "code",
   "execution_count": 46,
   "id": "0abc713d",
   "metadata": {},
   "outputs": [
    {
     "name": "stdout",
     "output_type": "stream",
     "text": [
      "Name:  Adyaan Office:  DCM Department:  ML Function:  Deep Learning\n"
     ]
    }
   ],
   "source": [
    "class Employee:\n",
    "    def __init__(self,name, office, dep, function):\n",
    "        self.name = name\n",
    "        self.office = office\n",
    "        self.dep = dep\n",
    "        self.function = function\n",
    "        \n",
    "class Profile(Employee):\n",
    "    pass\n",
    "\n",
    "Prof = Profile(\"Adyaan\",\"DCM\",\"ML\",\"Deep Learning\") \n",
    "print(\"Name: \", Prof.name, \"Office: \", Prof.office,\"Department: \", Prof.dep, \"Function: \", Prof.function)        \n"
   ]
  },
  {
   "cell_type": "markdown",
   "id": "5b2f5a01",
   "metadata": {},
   "source": [
    "https://www.techgeekbuzz.com/blog/python-object-oriented-programming-exercise/\n",
    "\n",
    "https://anandology.com/python-practice-book/object_oriented_programming.html\n"
   ]
  },
  {
   "cell_type": "code",
   "execution_count": 1,
   "id": "6fb62e13",
   "metadata": {},
   "outputs": [
    {
     "ename": "NameError",
     "evalue": "name 'Prof' is not defined",
     "output_type": "error",
     "traceback": [
      "\u001b[1;31m---------------------------------------------------------------------------\u001b[0m",
      "\u001b[1;31mNameError\u001b[0m                                 Traceback (most recent call last)",
      "\u001b[1;32m<ipython-input-1-dc12756ef0c9>\u001b[0m in \u001b[0;36m<module>\u001b[1;34m\u001b[0m\n\u001b[1;32m----> 1\u001b[1;33m \u001b[0mprint\u001b[0m\u001b[1;33m(\u001b[0m\u001b[0mProf\u001b[0m\u001b[1;33m.\u001b[0m\u001b[0m__dict__\u001b[0m\u001b[1;33m)\u001b[0m\u001b[1;33m\u001b[0m\u001b[1;33m\u001b[0m\u001b[0m\n\u001b[0m",
      "\u001b[1;31mNameError\u001b[0m: name 'Prof' is not defined"
     ]
    }
   ],
   "source": [
    "print(Prof.__dict__)"
   ]
  },
  {
   "cell_type": "code",
   "execution_count": null,
   "id": "ff7cc31d",
   "metadata": {},
   "outputs": [],
   "source": []
  }
 ],
 "metadata": {
  "kernelspec": {
   "display_name": "Python 3",
   "language": "python",
   "name": "python3"
  },
  "language_info": {
   "codemirror_mode": {
    "name": "ipython",
    "version": 3
   },
   "file_extension": ".py",
   "mimetype": "text/x-python",
   "name": "python",
   "nbconvert_exporter": "python",
   "pygments_lexer": "ipython3",
   "version": "3.8.8"
  }
 },
 "nbformat": 4,
 "nbformat_minor": 5
}
