{
 "cells": [
  {
   "cell_type": "markdown",
   "id": "6998f9be",
   "metadata": {},
   "source": [
    "### Python Object-Oriented Programming Exercise\n",
    "\n",
    "1. Python class and objects\n",
    "2. Python class properties, methods, and attributes.\n",
    "3. Python class private and global properties\n",
    "4. Python class inheritance.\n",
    "5. Python Polymorphism\n",
    "6. Python object checking\n",
    "\n",
    "\n",
    "**Python OOPs Exercise 1:** Write a Program to create a class by name Students, and initialize attributes like name, age, and grade while creating an object.\n",
    "\n",
    "**Solution:** To create a class in Python we can use the class and to initialize the attribute during object creation we can define the __init__() method."
   ]
  },
  {
   "cell_type": "code",
   "execution_count": 2,
   "id": "4e723d38",
   "metadata": {},
   "outputs": [
    {
     "name": "stdout",
     "output_type": "stream",
     "text": [
      "Raj\n"
     ]
    }
   ],
   "source": [
    "class Students:\n",
    "    def __init__(self, name, age, grade):\n",
    "        self.name = name\n",
    "        self.age = age\n",
    "        self.grade = grade\n",
    "    \n",
    "# Create object\n",
    "student1 = Students(\"Raj\",20, \"BE\")\n",
    "print(student1.name)"
   ]
  },
  {
   "cell_type": "markdown",
   "id": "8eeb45a2",
   "metadata": {},
   "source": [
    "**Python OOPs Exercise 2:** Write a Program to create an empty valid class by name Students, with no properties"
   ]
  },
  {
   "cell_type": "code",
   "execution_count": 5,
   "id": "825f8118",
   "metadata": {},
   "outputs": [
    {
     "data": {
      "text/plain": [
       "<__main__.Students at 0x17e616b1b20>"
      ]
     },
     "execution_count": 5,
     "metadata": {},
     "output_type": "execute_result"
    }
   ],
   "source": [
    "class Students:\n",
    "    pass\n",
    "\n",
    "#Object\n",
    "raj = Students()\n"
   ]
  },
  {
   "cell_type": "markdown",
   "id": "3fb6f9d8",
   "metadata": {},
   "source": [
    "**Python OOPs Exercise 3:** Write a program, to create a child class Teacher that will inherit the properties of Parent class Staff"
   ]
  },
  {
   "cell_type": "code",
   "execution_count": 10,
   "id": "2dcc610a",
   "metadata": {},
   "outputs": [
    {
     "name": "stdout",
     "output_type": "stream",
     "text": [
      "Name:  Raj\n",
      "Age : 40\n",
      "Role:  Teacher\n",
      "Department:  Statstics\n",
      "Salary:  30000\n"
     ]
    }
   ],
   "source": [
    "class Staff:\n",
    "    def __init__(self, role, dept, salary):\n",
    "        self.role = role\n",
    "        self.dept = dept\n",
    "        self.salary = salary\n",
    "    \n",
    "    def show_details(self):\n",
    "        print(\"Name: \", self.name)\n",
    "        print(\"Age :\", self.age)\n",
    "        print(\"Role: \", self.role)\n",
    "        print(\"Department: \", self.dept)\n",
    "        print(\"Salary: \", self.salary)\n",
    "\n",
    "## inherit from the Staff class\n",
    "class Teacher(Staff):\n",
    "    def __init__(self, name, age):\n",
    "        self.name = name\n",
    "        self.age = age\n",
    "        \n",
    "        # initialize the Parent  class\n",
    "        super().__init__(\"Teacher\",\"Statstics\", 30000)\n",
    "\n",
    "teacher = Teacher(\"Raj\", 40)\n",
    "\n",
    "#access the Staff Method\n",
    "teacher.show_details()"
   ]
  },
  {
   "cell_type": "markdown",
   "id": "df46b4a2",
   "metadata": {},
   "source": [
    "**Python OOPs Exercise 4:** Write a Program, to create a class and using the class instance print all the writable attributes of that object.\n",
    "\n",
    "**Solution** Every class object has an inbuilt __dict__ attribute, that returns a dictionary of all the attributes available for that object."
   ]
  },
  {
   "cell_type": "code",
   "execution_count": 11,
   "id": "536924ae",
   "metadata": {},
   "outputs": [
    {
     "name": "stdout",
     "output_type": "stream",
     "text": [
      "{'name': 'Raj', 'age': 40, 'role': 'Teacher', 'dept': 'Statstics', 'salary': 30000}\n"
     ]
    }
   ],
   "source": [
    "class Staff:\n",
    "    def __init__(self, role, dept, salary):\n",
    "        self.role = role\n",
    "        self.dept = dept\n",
    "        self.salary = salary\n",
    "    \n",
    "    def show_details(self):\n",
    "        print(\"Name: \", self.name)\n",
    "        print(\"Age :\", self.age)\n",
    "        print(\"Role: \", self.role)\n",
    "        print(\"Department: \", self.dept)\n",
    "        print(\"Salary: \", self.salary)\n",
    "\n",
    "## inherit from the Staff class\n",
    "class Teacher(Staff):\n",
    "    def __init__(self, name, age):\n",
    "        self.name = name\n",
    "        self.age = age\n",
    "        \n",
    "        # initialize the Parent  class\n",
    "        super().__init__(\"Teacher\",\"Statstics\", 30000)\n",
    "\n",
    "teacher = Teacher(\"Raj\", 40)\n",
    "\n",
    "#display all the namespaces\n",
    "print(teacher.__dict__)"
   ]
  },
  {
   "cell_type": "markdown",
   "id": "1490783d",
   "metadata": {},
   "source": [
    "**Python OOPs Exercise 5:** What would be the output of the following program?"
   ]
  },
  {
   "cell_type": "code",
   "execution_count": 15,
   "id": "45ef1391",
   "metadata": {},
   "outputs": [
    {
     "name": "stdout",
     "output_type": "stream",
     "text": [
      "True\n",
      "True\n"
     ]
    }
   ],
   "source": [
    "class Staff:\n",
    "    def __init__(self, role, dept, salary):\n",
    "        self.role = role\n",
    "        self.dept = dept\n",
    "        self.salary = salary\n",
    "    \n",
    "    def show_details(self):\n",
    "        print(\"Name: \", self.name)\n",
    "        print(\"Age :\", self.age)\n",
    "        print(\"Role: \", self.role)\n",
    "        print(\"Department: \", self.dept)\n",
    "        print(\"Salary: \", self.salary)\n",
    "\n",
    "## inherit from the Staff class\n",
    "class Teacher(Staff):\n",
    "    def __init__(self, name, age):\n",
    "        self.name = name\n",
    "        self.age = age\n",
    "        \n",
    "        # initialize the Parent  class\n",
    "        super().__init__(\"Teacher\",\"Statstics\", 30000)\n",
    "\n",
    "teacher = Teacher(\"Raj\", 40)\n",
    "\n",
    "print(isinstance(teacher, Teacher))\n",
    "print(isinstance(teacher, Staff))"
   ]
  },
  {
   "cell_type": "markdown",
   "id": "95fae168",
   "metadata": {},
   "source": [
    "**Python OOPs Exercise 6:** Create a class Teacher with name, age, and salary attributes, where salary must be a private attribute that cannot be accessed outside the class.\n",
    "\n",
    "**Answer** In Python there is no such thing as Private attributes or private members. Still, we can follow a convention of putting double underscore `__` before the variable name to make it private. Even after putting the double underscore before an attribute, it can still be accessed using the following syntax `_Classname__attributeName` ."
   ]
  },
  {
   "cell_type": "code",
   "execution_count": 18,
   "id": "e68c3059",
   "metadata": {},
   "outputs": [
    {
     "name": "stdout",
     "output_type": "stream",
     "text": [
      "Name:  Raj\n",
      "Age:  45\n",
      "Salary:  50000\n"
     ]
    }
   ],
   "source": [
    "class Teacher:\n",
    "    def __init__(self, name, age, salary):\n",
    "        self.name = name\n",
    "        self.age = age\n",
    "        #Private variable\n",
    "        self.__salary = salary\n",
    "        \n",
    "    def show(self):\n",
    "        print(\"Name: \", self.name)\n",
    "        print(\"Age: \", self.age)\n",
    "        #access the private attribute inside the class\n",
    "        print(\"Salary: \", self.__salary)\n",
    "\n",
    "#create the object\n",
    "teachear = Teacher(\"Raj\",45, 50000)\n",
    "teachear.show()\n",
    "        "
   ]
  },
  {
   "cell_type": "code",
   "execution_count": 20,
   "id": "cec36c24",
   "metadata": {},
   "outputs": [
    {
     "ename": "AttributeError",
     "evalue": "'Teacher' object has no attribute '__salary'",
     "output_type": "error",
     "traceback": [
      "\u001b[1;31m---------------------------------------------------------------------------\u001b[0m",
      "\u001b[1;31mAttributeError\u001b[0m                            Traceback (most recent call last)",
      "\u001b[1;32m<ipython-input-20-98a998a26ac9>\u001b[0m in \u001b[0;36m<module>\u001b[1;34m\u001b[0m\n\u001b[0;32m      1\u001b[0m \u001b[1;31m#access private member outside the class will throw error\u001b[0m\u001b[1;33m\u001b[0m\u001b[1;33m\u001b[0m\u001b[1;33m\u001b[0m\u001b[0m\n\u001b[1;32m----> 2\u001b[1;33m \u001b[0mprint\u001b[0m\u001b[1;33m(\u001b[0m\u001b[0mteachear\u001b[0m\u001b[1;33m.\u001b[0m\u001b[0m__salary\u001b[0m\u001b[1;33m)\u001b[0m\u001b[1;33m\u001b[0m\u001b[1;33m\u001b[0m\u001b[0m\n\u001b[0m",
      "\u001b[1;31mAttributeError\u001b[0m: 'Teacher' object has no attribute '__salary'"
     ]
    }
   ],
   "source": [
    "#access private member outside the class will throw error\n",
    "print(teachear.__salary)"
   ]
  },
  {
   "cell_type": "markdown",
   "id": "946e68a7",
   "metadata": {},
   "source": [
    "**Python OOPs Exercise 7:** Write a Python program that overloads the operator `+` and `>` for a custom class.\n",
    "\n",
    "**Solution:** Python custom class support operator overloading. To overload the operators for the class objects we define the specific dunders method. For the `+` operator the dunder method is `__add__() and for > its __gt__()`"
   ]
  },
  {
   "cell_type": "code",
   "execution_count": 15,
   "id": "83cca70e",
   "metadata": {},
   "outputs": [
    {
     "name": "stdout",
     "output_type": "stream",
     "text": [
      "Order1 + Order2 =  [1, 2, 3, 4, 5, 6, 10, 20, 30]\n",
      "order1 < order2 =  False\n"
     ]
    }
   ],
   "source": [
    "class Order:\n",
    "    def __init__(self, items):\n",
    "        self.items = items\n",
    "    \n",
    "    #overload the + operator\n",
    "    def __add__(self, others):\n",
    "        return self.items + others.items\n",
    "    \n",
    "    #overload the > operator\n",
    "    def __gt__(self, other):\n",
    "        return len(self.items) > len(other.items)\n",
    "    \n",
    "order1 = Order([1,2,3,4,5, 6])\n",
    "order2 = Order([10, 20, 30])\n",
    "\n",
    "print(\"Order1 + Order2 = \", order1 + order2) #This basically add the second order in list but not sum of the order2 in order1\n",
    "print(\"order1 < order2 = \", order1 < order2)"
   ]
  },
  {
   "cell_type": "markdown",
   "id": "a289e431",
   "metadata": {},
   "source": [
    "**Python OOPs Exercise 8:** Write a Python program that checks if one class is a subclass of another?\n",
    "**Solution:** To check if a class is a subclass of another we can use the Python inbuilt `issubclass()` function."
   ]
  },
  {
   "cell_type": "code",
   "execution_count": null,
   "id": "855883c0",
   "metadata": {},
   "outputs": [],
   "source": []
  }
 ],
 "metadata": {
  "kernelspec": {
   "display_name": "Python 3",
   "language": "python",
   "name": "python3"
  },
  "language_info": {
   "codemirror_mode": {
    "name": "ipython",
    "version": 3
   },
   "file_extension": ".py",
   "mimetype": "text/x-python",
   "name": "python",
   "nbconvert_exporter": "python",
   "pygments_lexer": "ipython3",
   "version": "3.8.8"
  }
 },
 "nbformat": 4,
 "nbformat_minor": 5
}
