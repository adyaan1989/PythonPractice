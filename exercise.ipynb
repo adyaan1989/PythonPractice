{
 "cells": [
  {
   "cell_type": "markdown",
   "metadata": {},
   "source": [
    "##### https://erlerobotics.gitbooks.io/erle-robotics-learning-python-gitbook-free/functions/exercises_functions.html"
   ]
  },
  {
   "cell_type": "markdown",
   "metadata": {},
   "source": [
    "### Exercise-1\n",
    "Write a shutting down program:\n",
    "\n",
    "\n",
    "First, def a function, shut_down, that takes one argument s. Then, if the shut_down function receives an s equal to \"yes\",\n",
    "it should return \"Shutting down\" Alternatively, elif s is equal to \"no\", then the function should return \"Shutdown aborted\". Finally, if shut_down gets anything other than those inputs, the function should return \"Sorry\".\n"
   ]
  },
  {
   "cell_type": "code",
   "execution_count": null,
   "metadata": {},
   "outputs": [],
   "source": [
    "def shut_down(s):\n",
    "    if s == 'yes':\n",
    "        return 'Shutting Down'\n",
    "    elif s == 'no':\n",
    "        return 'shutdown aborted'\n",
    "    else:\n",
    "        print('sorry, go to hell')\n",
    "\n",
    "shut_down('yes')        "
   ]
  },
  {
   "cell_type": "markdown",
   "metadata": {},
   "source": [
    "### Exercise-2\n",
    "\n",
    "Import the math module in whatever way you prefer. Call its sqrt function on the number 13689 and print that value to the console.\n"
   ]
  },
  {
   "cell_type": "code",
   "execution_count": null,
   "metadata": {},
   "outputs": [],
   "source": [
    "from math import sqrt \n",
    "print(sqrt(13689))"
   ]
  },
  {
   "cell_type": "markdown",
   "metadata": {},
   "source": [
    "### Exercise-3\n",
    "\n",
    "First, def a function called distance_from_zero, with one argument (choose any argument name you like). If the type of the argument is either int or float, the function should return the absolute value of the function input. Otherwise, the function should return \"Nope\". Check if it works calling the function with -5.6 and \"what?\"."
   ]
  },
  {
   "cell_type": "code",
   "execution_count": null,
   "metadata": {},
   "outputs": [],
   "source": [
    "def distance_from_zero(num):\n",
    "    if type (num) == int or type (num) == float:\n",
    "        return abs (num)\n",
    "    else:\n",
    "        return 'nope'\n",
    "    \n",
    "distance_from_zero(-5.6)    "
   ]
  },
  {
   "cell_type": "markdown",
   "metadata": {},
   "source": [
    "### Exercise-4\n",
    "Rewrite your pay computation program (previus chapter) with time-and-a-half for overtime and create a function called computepay which takes two parameters (hours and rate).\n",
    "####################\n",
    "#Enter Hours: 45\n",
    "#Enter Rate: 10\n",
    "#Pay: 475.0'''\n",
    "###################\n"
   ]
  },
  {
   "cell_type": "code",
   "execution_count": null,
   "metadata": {},
   "outputs": [],
   "source": [
    "def computepay(hours, rate):\n",
    "    if hours < 40:\n",
    "        pay=hours*rate\n",
    "        print('The pay is:', pay)\n",
    "        \n",
    "    else:\n",
    "        pay = 40 * rate + (hours-40)*1.5 * rate\n",
    "        print('the pay is pay :', pay)\n",
    "     \n",
    "hours = input('Enter the working hours: ')\n",
    "hours = float(hours)\n",
    "rate = 10\n",
    "\n",
    "computepay(hours, rate)"
   ]
  },
  {
   "cell_type": "code",
   "execution_count": null,
   "metadata": {},
   "outputs": [],
   "source": []
  }
 ],
 "metadata": {
  "kernelspec": {
   "display_name": "Python 3",
   "language": "python",
   "name": "python3"
  },
  "language_info": {
   "codemirror_mode": {
    "name": "ipython",
    "version": 3
   },
   "file_extension": ".py",
   "mimetype": "text/x-python",
   "name": "python",
   "nbconvert_exporter": "python",
   "pygments_lexer": "ipython3",
   "version": "3.8.8"
  }
 },
 "nbformat": 4,
 "nbformat_minor": 2
}
