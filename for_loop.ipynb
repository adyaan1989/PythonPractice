{
 "cells": [
  {
   "cell_type": "code",
   "execution_count": 1,
   "metadata": {},
   "outputs": [
    {
     "name": "stdout",
     "output_type": "stream",
     "text": [
      "python\n",
      "C++\n",
      "Java\n",
      "Juliya\n"
     ]
    }
   ],
   "source": [
    "#simple for loop\n",
    "languages = ['python','C++','Java',\"Juliya\"]\n",
    "\n",
    "for item in languages:\n",
    "    print(item)"
   ]
  },
  {
   "cell_type": "code",
   "execution_count": 7,
   "metadata": {},
   "outputs": [
    {
     "name": "stdout",
     "output_type": "stream",
     "text": [
      "Great, delicious ham\n",
      "Great, delicious aspam\n",
      "Great, delicious eggs\n",
      "Great, delicious nuts\n",
      " I am so glad: no spam!\n",
      "Finally, I finised stuffing myself\n"
     ]
    }
   ],
   "source": [
    "editble = [\"ham\", \"aspam\",\"eggs\",\"nuts\"]\n",
    "\n",
    "for food in editble:\n",
    "    if food == \"spam\":\n",
    "        print(\"No more spam please!\")\n",
    "        break\n",
    "    print(\"Great, delicious \" + food)\n",
    "else:\n",
    "    print(\" I am so glad: no spam!\")\n",
    "    print(\"Finally, I finised stuffing myself\")    "
   ]
  },
  {
   "cell_type": "code",
   "execution_count": 8,
   "metadata": {},
   "outputs": [],
   "source": [
    "list =(range(10))"
   ]
  },
  {
   "cell_type": "code",
   "execution_count": 9,
   "metadata": {},
   "outputs": [
    {
     "name": "stdout",
     "output_type": "stream",
     "text": [
      "range(0, 10)\n"
     ]
    }
   ],
   "source": [
    "print(list)"
   ]
  },
  {
   "cell_type": "code",
   "execution_count": null,
   "metadata": {},
   "outputs": [],
   "source": []
  }
 ],
 "metadata": {
  "kernelspec": {
   "display_name": "Python 3",
   "language": "python",
   "name": "python3"
  },
  "language_info": {
   "codemirror_mode": {
    "name": "ipython",
    "version": 3
   },
   "file_extension": ".py",
   "mimetype": "text/x-python",
   "name": "python",
   "nbconvert_exporter": "python",
   "pygments_lexer": "ipython3",
   "version": "3.8.5"
  }
 },
 "nbformat": 4,
 "nbformat_minor": 2
}
