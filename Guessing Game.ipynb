{
 "cells": [
  {
   "cell_type": "markdown",
   "metadata": {},
   "source": [
    "you will need to run this on your machine and not this website for the sys.argv to work!\n",
    "\n",
    "<br> 1) Generate a number 1 to 10\n",
    "<br> 2) Ask to Input from user\n",
    "<br> 3) check that input is a number 1 to 10\n",
    "<br> 4) check if number is the right guess otherwise ask again"
   ]
  },
  {
   "cell_type": "code",
   "execution_count": 4,
   "metadata": {},
   "outputs": [],
   "source": [
    "from random import randint"
   ]
  },
  {
   "cell_type": "code",
   "execution_count": 1,
   "metadata": {},
   "outputs": [
    {
     "name": "stdout",
     "output_type": "stream",
     "text": [
      "5\n",
      "guess a number 1~10: 4\n",
      "5\n",
      "guess a number 1~10: 4\n",
      "5\n",
      "guess a number 1~10: 54\n",
      "hey, I said 1~10 number\n",
      "5\n",
      "guess a number 1~10: 1\n",
      "5\n",
      "guess a number 1~10: 8\n",
      "5\n",
      "guess a number 1~10: 9\n",
      "5\n",
      "guess a number 1~10: 6\n",
      "5\n",
      "guess a number 1~10: 0\n",
      "hey, I said 1~10 number\n",
      "5\n",
      "guess a number 1~10: 9\n",
      "5\n",
      "guess a number 1~10: 10\n",
      "5\n",
      "guess a number 1~10: 1\n",
      "5\n",
      "guess a number 1~10: 2\n",
      "5\n",
      "guess a number 1~10: 3\n",
      "5\n",
      "guess a number 1~10: 4\n",
      "5\n",
      "guess a number 1~10: 5\n",
      "You are a genius!\n"
     ]
    }
   ],
   "source": [
    "from random import randint\n",
    "import sys\n",
    "\n",
    "# Generate a number 1 ~ 10\n",
    "answer = randint(1,10)\n",
    "\n",
    "# Ask to Input from user\n",
    "\n",
    "\n",
    "# check that input is a number 1 to 10\n",
    "\n",
    "while True:\n",
    "    try:\n",
    "        print(answer)\n",
    "        guess = int(input(\"guess a number 1~10: \"))\n",
    "        if 0 < guess < 11:\n",
    "            if guess == answer:\n",
    "                print(\"You are a genius!\")\n",
    "                break\n",
    "        else:\n",
    "            print(\"hey, I said 1~10 number\")\n",
    "    except ValueError:\n",
    "        print(\"Please enter a number\")\n",
    "        continue\n",
    "\n",
    "# if number is the right guess otherwise ask again\n",
    "\n"
   ]
  },
  {
   "cell_type": "markdown",
   "metadata": {},
   "source": [
    "## answer"
   ]
  },
  {
   "cell_type": "code",
   "execution_count": null,
   "metadata": {},
   "outputs": [],
   "source": []
  }
 ],
 "metadata": {
  "kernelspec": {
   "display_name": "Python 3",
   "language": "python",
   "name": "python3"
  },
  "language_info": {
   "codemirror_mode": {
    "name": "ipython",
    "version": 3
   },
   "file_extension": ".py",
   "mimetype": "text/x-python",
   "name": "python",
   "nbconvert_exporter": "python",
   "pygments_lexer": "ipython3",
   "version": "3.7.4"
  }
 },
 "nbformat": 4,
 "nbformat_minor": 2
}
