{
 "cells": [
  {
   "cell_type": "markdown",
   "metadata": {},
   "source": [
    "### OOP ###"
   ]
  },
  {
   "cell_type": "code",
   "execution_count": 1,
   "metadata": {},
   "outputs": [
    {
     "name": "stdout",
     "output_type": "stream",
     "text": [
      "Adyaan\n",
      "30\n",
      "50\n",
      "9\n"
     ]
    }
   ],
   "source": [
    "class PlayerCharacter:\n",
    "    def __init__(self, name, age):\n",
    "        self.name = name\n",
    "        self.age = age\n",
    "        \n",
    "    def run(self):\n",
    "        print('run')\n",
    "        return 'done'\n",
    "\n",
    "    \n",
    "    \n",
    "player1 = PlayerCharacter('Adyaan', 30)\n",
    "player2 = PlayerCharacter('Kavya', 29)\n",
    "player2.attack = 50\n",
    "player1.sleep = 9\n",
    "\n",
    "print(player1.name)\n",
    "print(player1.age)\n",
    "print(player2.attack)\n",
    "print(player1.sleep)\n"
   ]
  },
  {
   "cell_type": "code",
   "execution_count": 2,
   "metadata": {},
   "outputs": [
    {
     "name": "stdout",
     "output_type": "stream",
     "text": [
      "Kavya\n",
      "True\n",
      "my name is Adyaan\n",
      "None\n",
      "13\n",
      "13\n"
     ]
    }
   ],
   "source": [
    "class PlayerCharacter:\n",
    "    membership = True   # Class Object Attribute\n",
    "    def __init__(self, name, age):\n",
    "        if (self.membership):\n",
    "            self.name = name # attribute\n",
    "            self.age = age\n",
    "        \n",
    "    def shout(self):\n",
    "        print(f'my name is {self.name}')\n",
    "        #return 'done'\n",
    "        \n",
    "    @classmethod\n",
    "    def adding_things(cls, num1, num2):\n",
    "        return num1 + num2\n",
    "    \n",
    "    @staticmethod\n",
    "    def adding_things2(num1, num2):\n",
    "        return num1 + num2\n",
    "    \n",
    "    \n",
    "player1 = PlayerCharacter('Adyaan', 30)\n",
    "player2 = PlayerCharacter('Kavya', 29)\n",
    "print(player2.name)\n",
    "print(player1.membership)\n",
    "print(player1.shout())\n",
    "print(player1.adding_things(5,8))\n",
    "print(player2.adding_things2(5,8))\n"
   ]
  },
  {
   "cell_type": "code",
   "execution_count": 3,
   "metadata": {},
   "outputs": [],
   "source": [
    "# @classmethods"
   ]
  },
  {
   "cell_type": "code",
   "execution_count": 4,
   "metadata": {},
   "outputs": [
    {
     "name": "stdout",
     "output_type": "stream",
     "text": [
      "[[1 2 3]\n",
      " [4 5 6]\n",
      " [7 8 9]]\n",
      "<__main__.Struct object at 0x000001AED89A31C8>\n"
     ]
    },
    {
     "ename": "NameError",
     "evalue": "name 'pd' is not defined",
     "output_type": "error",
     "traceback": [
      "\u001b[1;31m---------------------------------------------------------------------------\u001b[0m",
      "\u001b[1;31mNameError\u001b[0m                                 Traceback (most recent call last)",
      "\u001b[1;32m<ipython-input-4-fc49709c86d8>\u001b[0m in \u001b[0;36m<module>\u001b[1;34m\u001b[0m\n\u001b[0;32m     45\u001b[0m \u001b[0mpeople\u001b[0m\u001b[1;33m.\u001b[0m\u001b[0madd_to_facet\u001b[0m\u001b[1;33m(\u001b[0m\u001b[0mPerson\u001b[0m\u001b[1;33m(\u001b[0m\u001b[1;34m'Jane'\u001b[0m\u001b[1;33m,\u001b[0m \u001b[1;36m24\u001b[0m\u001b[1;33m,\u001b[0m \u001b[1;34m'She sells sea shells on the sea shore'\u001b[0m\u001b[1;33m)\u001b[0m\u001b[1;33m)\u001b[0m\u001b[1;33m\u001b[0m\u001b[1;33m\u001b[0m\u001b[0m\n\u001b[0;32m     46\u001b[0m \u001b[0mpeople\u001b[0m\u001b[1;33m.\u001b[0m\u001b[0madd_to_facet\u001b[0m\u001b[1;33m(\u001b[0m\u001b[0mPerson\u001b[0m\u001b[1;33m(\u001b[0m\u001b[1;34m'Jill'\u001b[0m\u001b[1;33m,\u001b[0m \u001b[1;36m17\u001b[0m\u001b[1;33m,\u001b[0m \u001b[1;34m'The quick brown fox jumps over the lazy dog'\u001b[0m\u001b[1;33m)\u001b[0m\u001b[1;33m)\u001b[0m\u001b[1;33m\u001b[0m\u001b[1;33m\u001b[0m\u001b[0m\n\u001b[1;32m---> 47\u001b[1;33m \u001b[0mprint\u001b[0m\u001b[1;33m(\u001b[0m\u001b[0mpeople\u001b[0m\u001b[1;33m.\u001b[0m\u001b[0mitems\u001b[0m\u001b[1;33m)\u001b[0m\u001b[1;33m\u001b[0m\u001b[1;33m\u001b[0m\u001b[0m\n\u001b[0m",
      "\u001b[1;32m<ipython-input-4-fc49709c86d8>\u001b[0m in \u001b[0;36mitems\u001b[1;34m(self)\u001b[0m\n\u001b[0;32m     36\u001b[0m   \u001b[1;33m@\u001b[0m\u001b[0mproperty\u001b[0m\u001b[1;33m\u001b[0m\u001b[1;33m\u001b[0m\u001b[0m\n\u001b[0;32m     37\u001b[0m   \u001b[1;32mdef\u001b[0m \u001b[0mitems\u001b[0m\u001b[1;33m(\u001b[0m\u001b[0mself\u001b[0m\u001b[1;33m)\u001b[0m\u001b[1;33m:\u001b[0m\u001b[1;33m\u001b[0m\u001b[1;33m\u001b[0m\u001b[0m\n\u001b[1;32m---> 38\u001b[1;33m     \u001b[1;32mreturn\u001b[0m \u001b[0mpd\u001b[0m\u001b[1;33m.\u001b[0m\u001b[0mDataFrame\u001b[0m\u001b[1;33m(\u001b[0m\u001b[0mlist\u001b[0m\u001b[1;33m(\u001b[0m\u001b[0mself\u001b[0m\u001b[1;33m.\u001b[0m\u001b[0mfacet\u001b[0m\u001b[1;33m.\u001b[0m\u001b[0mvalues\u001b[0m\u001b[1;33m(\u001b[0m\u001b[1;33m)\u001b[0m\u001b[1;33m)\u001b[0m\u001b[1;33m,\u001b[0m \u001b[0mcolumns\u001b[0m\u001b[1;33m=\u001b[0m\u001b[0mPerson\u001b[0m\u001b[1;33m.\u001b[0m\u001b[0mcolumns\u001b[0m\u001b[1;33m(\u001b[0m\u001b[1;33m)\u001b[0m\u001b[1;33m)\u001b[0m\u001b[1;33m\u001b[0m\u001b[1;33m\u001b[0m\u001b[0m\n\u001b[0m\u001b[0;32m     39\u001b[0m \u001b[1;33m\u001b[0m\u001b[0m\n\u001b[0;32m     40\u001b[0m \u001b[0mpeople\u001b[0m \u001b[1;33m=\u001b[0m \u001b[0mStruct\u001b[0m\u001b[1;33m(\u001b[0m\u001b[1;33m)\u001b[0m\u001b[1;33m\u001b[0m\u001b[1;33m\u001b[0m\u001b[0m\n",
      "\u001b[1;31mNameError\u001b[0m: name 'pd' is not defined"
     ]
    }
   ],
   "source": [
    "import numpy as np\n",
    "array = np.array([[1, 2, 3], [4, 5, 6], [7, 8, 9]])\n",
    "print(array)\n",
    "\n",
    "\n",
    "\n",
    "class Person():\n",
    "  def __init__(self, name , age, notes):\n",
    "    self.name = name\n",
    "    self.age = age\n",
    "    self.notes = notes\n",
    "  \n",
    "  def __iter__(self):\n",
    "    yield self\n",
    "    yield self.name\n",
    "    yield self.age\n",
    "    yield self.notes\n",
    "\n",
    "  def hello(self):\n",
    "    return(f\"Hello! I am {self.name}, {self.notes}\")\n",
    "\n",
    "  def __str__(self):\n",
    "    return \"Person: \" + self.name\n",
    "\n",
    "  @classmethod\n",
    "  def columns(cls):\n",
    "    return['items', 'name', 'age', 'notes']\n",
    "\n",
    "class Struct:\n",
    "  def __init__(self):\n",
    "    self.facet = {}\n",
    "\n",
    "  def add_to_facet(self, item):\n",
    "    self.facet[item.name] = item\n",
    "\n",
    "  @property\n",
    "  def items(self):\n",
    "    return pd.DataFrame(list(self.facet.values()), columns=Person.columns())\n",
    "\n",
    "people = Struct()\n",
    "print(people)\n",
    "\n",
    "people = Struct()\n",
    "people.add_to_facet(Person('Jim', 42, 'The time has come for all good men to come to the aid of the party'))\n",
    "people.add_to_facet(Person('Jane', 24, 'She sells sea shells on the sea shore'))\n",
    "people.add_to_facet(Person('Jill', 17, 'The quick brown fox jumps over the lazy dog'))\n",
    "print(people.items)    \n"
   ]
  },
  {
   "cell_type": "markdown",
   "metadata": {},
   "source": [
    "### __init__ "
   ]
  },
  {
   "cell_type": "code",
   "execution_count": null,
   "metadata": {},
   "outputs": [],
   "source": [
    "\n",
    "class PlayerCharacter:\n",
    "    def __init__(self, name='anonymous', age=0):\n",
    "        if (age >= 18):\n",
    "            self.name = name\n",
    "            self.age = age\n",
    "        \n",
    "    def run(self):\n",
    "        print(f'My name is {self.name} and I am {self.age} year old')\n",
    "  \n",
    "    \n",
    "    \n",
    "player1 = PlayerCharacter('Adyaan', 18)\n",
    "print(player1.run())\n",
    "\n",
    "# print(player1.name)\n",
    "# print(player1.age)\n"
   ]
  },
  {
   "cell_type": "markdown",
   "metadata": {},
   "source": [
    "### Exercise: Cats Everywhere\n",
    "\n"
   ]
  },
  {
   "cell_type": "code",
   "execution_count": null,
   "metadata": {},
   "outputs": [],
   "source": [
    "class cat:\n",
    "    #species = 'mammal'\n",
    "    def __init__(self, name, age):\n",
    "        self.name = name\n",
    "        self.age = age\n",
    "        \n",
    "# Instantiate the Cat object with 3 cats\n",
    "\n",
    "peanut = cat('Peanut', 3)\n",
    "garfield = cat('Garfield', 5)\n",
    "snickers = cat('snickers', 1)\n",
    "\n",
    "# Find the oldest cat\n",
    "\n",
    "def get_oldest_cat(*args):\n",
    "    return max(args)\n",
    "\n",
    "\n",
    "#Output\n",
    "\n",
    "print(f'The oldest cat is {get_oldest_cat(peanut.age, garfield.age, snickers.age)} year old')\n"
   ]
  },
  {
   "cell_type": "markdown",
   "metadata": {},
   "source": [
    "## @classmethod and @staticmethod"
   ]
  },
  {
   "cell_type": "code",
   "execution_count": null,
   "metadata": {},
   "outputs": [],
   "source": [
    "class PlayerCharacter:\n",
    "    \n",
    "    membership = True\n",
    "    def __init__(self, name, age):\n",
    "      \n",
    "        self.name = name\n",
    "        self.age = age\n",
    "\n",
    "    def shout(self):\n",
    "        print(f'My name is {self.name} and I am {self.age} year old')\n",
    "  \n",
    "    \n",
    "    @classmethod\n",
    "    def adding_things(cls, num1, num2):\n",
    "        return num1 + num2\n",
    "    \n",
    "    \n",
    "player1 = PlayerCharacter('Adyaan', 18)\n",
    "print(player1.adding_things(2,5))\n",
    "\n",
    "print(player1.name)\n",
    "print(player1.age)\n"
   ]
  },
  {
   "cell_type": "code",
   "execution_count": null,
   "metadata": {},
   "outputs": [],
   "source": [
    "class PlayerCharacter:\n",
    "    \n",
    "    membership = True\n",
    "    def __init__(self, name, age):\n",
    "      \n",
    "        self.name = name\n",
    "        self.age = age\n",
    "\n",
    "    def shout(self):\n",
    "        print(f'My name is {self.name} and I am {self.age} year old')\n",
    "  \n",
    "    \n",
    "    @classmethod\n",
    "    def adding_things(cls, num1, num2):\n",
    "        return cls('Adyaan', num1 + num2)\n",
    "    \n",
    "    \n",
    "    \n",
    "player1 = PlayerCharacter('Adyaan', 18)\n",
    "Player3=PlayerCharacter.adding_things(2,5)\n",
    "print(Player3.age)\n"
   ]
  },
  {
   "cell_type": "code",
   "execution_count": null,
   "metadata": {},
   "outputs": [],
   "source": [
    "class PlayerCharacter:\n",
    "    \n",
    "    membership = True\n",
    "    def __init__(self, name, age):\n",
    "      \n",
    "        self.name = name\n",
    "        self.age = age\n",
    "\n",
    "    def shout(self):\n",
    "        print(f'My name is {self.name} and I am {self.age} year old')\n",
    "  \n",
    "    \n",
    "    @classmethod\n",
    "    def adding_things(cls, num1, num2):\n",
    "        return cls('Adyaan', num1 + num2)\n",
    "    \n",
    "    \n",
    "    @staticmethod\n",
    "    def adding_things2(num1, num2):\n",
    "        return num1 + num2\n",
    "    \n",
    "    \n",
    "#player1 = PlayerCharacter('Adyaan', 18)\n",
    "Player3=PlayerCharacter.adding_things2(3,5)\n",
    "print(Player3.age)\n"
   ]
  },
  {
   "cell_type": "markdown",
   "metadata": {},
   "source": [
    "## 4 Pillars of OOP\n",
    "\n",
    "### 1st Pillar:- Encapsulation"
   ]
  },
  {
   "cell_type": "code",
   "execution_count": null,
   "metadata": {},
   "outputs": [],
   "source": [
    "class PlayerCharacter:\n",
    "     \n",
    "    def __init__(self, name, age):\n",
    "        self.name = name\n",
    "        self.age = age\n",
    "        \n",
    "\n",
    "    def speak(self):\n",
    "        print(f'My name is {self.name} and I am {self.age} years old')\n",
    "  \n",
    "    \n",
    "    \n",
    "    \n",
    "player1 = PlayerCharacter('Adyaan', 300)\n",
    "player1.speak()"
   ]
  },
  {
   "cell_type": "markdown",
   "metadata": {},
   "source": [
    "### 2nd pillar:- Abstraction\n",
    "\n",
    "This is not a good way to work becouse it is rename the functions"
   ]
  },
  {
   "cell_type": "code",
   "execution_count": null,
   "metadata": {},
   "outputs": [],
   "source": [
    "class PlayerCharacter:\n",
    "     \n",
    "    def __init__(self, name, age):\n",
    "        self.name = name\n",
    "        self.age = age\n",
    "        \n",
    "\n",
    "    def speak(self):\n",
    "        print(f'My name is {self.name} and I am {self.age} years old')\n",
    "  \n",
    "    \n",
    "    \n",
    "    \n",
    "player1 = PlayerCharacter('Adyaan', 300)\n",
    "player1.name = 'oooooheeeeeeeee'\n",
    "player1.speak = 'hoooooooooo'\n",
    "\n",
    "print(player1.speak)\n",
    "print(player1.name)\n"
   ]
  },
  {
   "cell_type": "markdown",
   "metadata": {},
   "source": [
    "### Private vs Public Variables\n",
    "\n",
    "When we use _ after self then it have been private e.g. _name, _age. This means you can not modify it"
   ]
  },
  {
   "cell_type": "code",
   "execution_count": null,
   "metadata": {},
   "outputs": [],
   "source": [
    "class PlayerCharacter:\n",
    "     \n",
    "    def __init__(self, name, age):\n",
    "        self._name = name\n",
    "        self._age = age\n",
    "        \n",
    "\n",
    "    def speak(self):\n",
    "        print(f'My name is {self._name} and I am {self._age} years old')\n",
    "  \n",
    "    \n",
    "    \n",
    "    \n",
    "player1 = PlayerCharacter('Adyaan', 300)\n",
    "print(player1.speak())\n"
   ]
  },
  {
   "cell_type": "markdown",
   "metadata": {},
   "source": [
    "### 3rd Pillar :- Inheritance"
   ]
  },
  {
   "cell_type": "code",
   "execution_count": null,
   "metadata": {},
   "outputs": [],
   "source": [
    "class User():\n",
    "    def sing_in(self):\n",
    "        print('logged in')\n",
    "        \n",
    "class Wizard(User):\n",
    "    def __init__(self, name, power):\n",
    "        self.name = name\n",
    "        self.power = power\n",
    "        \n",
    "    def attack(self):\n",
    "        print(f'Attacking with power of {self.power}')\n",
    "    \n",
    "\n",
    "class Archer(User):\n",
    "    def __init__(self, name, num_arrows):\n",
    "        self.name = name\n",
    "        self.num_arrows = num_arrows\n",
    "        \n",
    "    def attack(self):\n",
    "        print(f'Attacking with arrows:  arrows left - {self.num_arrows}')\n",
    "         \n",
    "        \n",
    "    \n",
    "    \n",
    "Wizard1 = Wizard('Adyaan', 100)\n",
    "archer1 = Archer('Kavya', 100)\n",
    "\n",
    "# print(Wizard1.name)\n",
    "# Wizard1.power\n",
    "Wizard1.attack()\n",
    "Wizard1.sing_in()\n",
    "archer1.attack()\n",
    "archer1.sing_in()\n"
   ]
  },
  {
   "cell_type": "code",
   "execution_count": null,
   "metadata": {},
   "outputs": [],
   "source": [
    "class User():\n",
    "    def sing_in(self):\n",
    "        print('logged in')\n",
    "        \n",
    "class Wizard(User):\n",
    "    def __init__(self, name, power):\n",
    "        self.name = name\n",
    "        self.power = power\n",
    "        \n",
    "    def attack(self):\n",
    "        print(f'Attacking with power of {self.power}')\n",
    "    \n",
    "\n",
    "class Archer(User):\n",
    "    def __init__(self, name, num_arrows):\n",
    "        self.name = name\n",
    "        self.num_arrows = num_arrows\n",
    "        \n",
    "    def attack(self):\n",
    "        print(f'Attacking with arrows:  arrows left - {self.num_arrows}')\n",
    "         \n",
    "        \n",
    "    \n",
    "    \n",
    "Wizard1 = Wizard('Adyaan', 100)\n",
    "archer1 = Archer('Kavya', 100)\n",
    "\n",
    "print(isinstance(Wizard1, object))\n"
   ]
  },
  {
   "cell_type": "markdown",
   "metadata": {},
   "source": [
    "### 4th Pillar:- Polymorphism"
   ]
  },
  {
   "cell_type": "code",
   "execution_count": null,
   "metadata": {},
   "outputs": [],
   "source": [
    "class User():\n",
    "    def sing_in(self):\n",
    "        print('logged in')\n",
    "        \n",
    "class Wizard(User):\n",
    "    def __init__(self, name, power):\n",
    "        self.name = name\n",
    "        self.power = power\n",
    "        \n",
    "    def attack(self):\n",
    "        \n",
    "        print(f'Attacking with power of {self.power}')\n",
    "    \n",
    "\n",
    "class Archer(User):\n",
    "    def __init__(self, name, num_arrows):\n",
    "        self.name = name\n",
    "        self.num_arrows = num_arrows\n",
    "        \n",
    "    def attack(self):\n",
    "        print(f'Attacking with arrows:  arrows left - {self.num_arrows}')\n",
    "         \n",
    "        \n",
    "    \n",
    "    \n",
    "Wizard1 = Wizard('Adyaan', 100)\n",
    "archer1 = Archer('Kavya', 100)\n",
    "\n",
    "def player_attack(char):\n",
    "    char.attack()\n",
    "    \n",
    "player_attack(Wizard1)\n",
    "player_attack(archer1)\n",
    "\n",
    "print()\n",
    "\n",
    "for char in [Wizard1, archer1]:\n",
    "    char.attack()\n"
   ]
  },
  {
   "cell_type": "markdown",
   "metadata": {},
   "source": [
    "### Exercies Extending list"
   ]
  },
  {
   "cell_type": "code",
   "execution_count": 20,
   "metadata": {},
   "outputs": [
    {
     "ename": "TypeError",
     "evalue": "Pets() takes no arguments",
     "output_type": "error",
     "traceback": [
      "\u001b[1;31m---------------------------------------------------------------------------\u001b[0m",
      "\u001b[1;31mTypeError\u001b[0m                                 Traceback (most recent call last)",
      "\u001b[1;32m<ipython-input-20-9ccb5fb2b858>\u001b[0m in \u001b[0;36m<module>\u001b[1;34m\u001b[0m\n\u001b[0;32m     46\u001b[0m \u001b[1;33m\u001b[0m\u001b[0m\n\u001b[0;32m     47\u001b[0m \u001b[1;31m#3) Instantiate the Pet class with all your cats\u001b[0m\u001b[1;33m\u001b[0m\u001b[1;33m\u001b[0m\u001b[1;33m\u001b[0m\u001b[0m\n\u001b[1;32m---> 48\u001b[1;33m \u001b[0mmy_pets\u001b[0m \u001b[1;33m=\u001b[0m \u001b[0mPets\u001b[0m\u001b[1;33m(\u001b[0m\u001b[0mMy_cats\u001b[0m\u001b[1;33m)\u001b[0m\u001b[1;33m\u001b[0m\u001b[1;33m\u001b[0m\u001b[0m\n\u001b[0m\u001b[0;32m     49\u001b[0m \u001b[1;31m#my_pets = Pets(my_cats)\u001b[0m\u001b[1;33m\u001b[0m\u001b[1;33m\u001b[0m\u001b[1;33m\u001b[0m\u001b[0m\n\u001b[0;32m     50\u001b[0m \u001b[1;31m# 4) Output all of the cats singing using the my pets instance\u001b[0m\u001b[1;33m\u001b[0m\u001b[1;33m\u001b[0m\u001b[1;33m\u001b[0m\u001b[0m\n",
      "\u001b[1;31mTypeError\u001b[0m: Pets() takes no arguments"
     ]
    }
   ],
   "source": [
    "class Pets():\n",
    "    \n",
    "    \n",
    "    animals =  []    \n",
    "    def __init(self, animals):\n",
    "        self.animals = animals\n",
    "        \n",
    "    def walk(self):\n",
    "        for animal in self.animals:\n",
    "            print(animal.walk())\n",
    "                        \n",
    "class Cat():\n",
    "    is_lazy = True\n",
    "\n",
    "    def __init__(self, name, age):\n",
    "        self.name = name\n",
    "        self.age = age\n",
    "\n",
    "    def walk(self):\n",
    "        return f'{self.name} is just walking around'\n",
    "\n",
    "class Simon(Cat):\n",
    "\n",
    "    def sing(self, sounds):\n",
    "        return f'{sounds}'\n",
    "\n",
    "class Sally(Cat):\n",
    "    def sing(self, sounds):\n",
    "        return f'{sounds}'\n",
    "\n",
    "class Chinky(Cat):\n",
    "    def sing(self, sounds):\n",
    "        return f'sounds'\n",
    "\n",
    "# 1) Add another Cat    \n",
    "        \n",
    "class Minky(Cat):\n",
    "    def sing(self, sounds):\n",
    "        return f'sounds'\n",
    "    \n",
    "    \n",
    "#2) creating a list of all of the pets (creating 4 cats instances from the above)\n",
    "\n",
    "My_cats = [Simon('Simon', 4), Sally('Sally', 10), Chinky('Chinky', 1), Minky('Minky',12)]\n",
    "\n",
    "\n",
    "#3) Instantiate the Pet class with all your cats\n",
    "my_pets = Pets(My_cats)\n",
    "#my_pets = Pets(my_cats)\n",
    "# 4) Output all of the cats singing using the my pets instance\n",
    "print(my_cats.walk())          \n",
    "        \n",
    "            \n",
    "        "
   ]
  },
  {
   "cell_type": "markdown",
   "metadata": {},
   "source": [
    "## Supper"
   ]
  },
  {
   "cell_type": "code",
   "execution_count": null,
   "metadata": {},
   "outputs": [],
   "source": [
    "class User(object):\n",
    "    def __init__(self, email):\n",
    "        self.email = email\n",
    "        \n",
    "    \n",
    "    def sing_in(self):\n",
    "        print('logged in')\n",
    "        \n",
    "class Wizard(User):\n",
    "    def __init__(self, name, power, email):\n",
    "        User.__init__(self, email)\n",
    "        self.name = name\n",
    "        self.power = power\n",
    "        \n",
    "    def attack(self):\n",
    "        \n",
    "        print(f'Attacking with power of {self.power}')\n",
    "    \n",
    "\n",
    "class Archer(User):\n",
    "    def __init__(self, name, num_arrows, email):\n",
    "        super().__init__(email)\n",
    "        self.name = name\n",
    "        self.num_arrows = num_arrows\n",
    "        \n",
    "    def attack(self):\n",
    "        print(f'Attacking with arrows:  arrows left - {self.num_arrows}')\n",
    "         \n",
    "        \n",
    "    \n",
    "    \n",
    "Wizard1 = Wizard('Adyaan', 100, 'adyaan.singh@gmail.com')\n",
    "archer1 = Archer('Kavya', 100, 'kavya.singh@gmail.com')\n",
    "\n",
    "print(Wizard1.email)\n",
    "archer1.email"
   ]
  },
  {
   "cell_type": "code",
   "execution_count": null,
   "metadata": {},
   "outputs": [],
   "source": [
    "# Object Introspections\n",
    "\n",
    "class User(object):\n",
    "    def __init__(self, email):\n",
    "        self.email = email\n",
    "        \n",
    "    \n",
    "    def sing_in(self):\n",
    "        print('logged in')\n",
    "        \n",
    "class Wizard(User):\n",
    "    def __init__(self, name, power, email):\n",
    "        User.__init__(self, email)\n",
    "        self.name = name\n",
    "        self.power = power\n",
    "        \n",
    "    def attack(self):\n",
    "        \n",
    "        print(f'Attacking with power of {self.power}')\n",
    "    \n",
    "\n",
    "class Archer(User):\n",
    "    def __init__(self, name, num_arrows, email):\n",
    "        super().__init__(email)\n",
    "        self.name = name\n",
    "        self.num_arrows = num_arrows\n",
    "        \n",
    "    def attack(self):\n",
    "        print(f'Attacking with arrows:  arrows left - {self.num_arrows}')\n",
    "         \n",
    "        \n",
    "    \n",
    "#Intropections (dir)   \n",
    "\n",
    "Wizard1 = Wizard('Adyaan', 100, 'adyaan.singh@gmail.com')\n",
    "archer1 = Archer('Kavya', 100, 'kavya.singh@gmail.com')\n",
    "\n",
    "print(dir(Wizard1))\n",
    "#archer1.email"
   ]
  },
  {
   "cell_type": "code",
   "execution_count": null,
   "metadata": {},
   "outputs": [],
   "source": [
    "### Dunder Methods\n",
    "\n",
    "class Toy():\n",
    "    def __init__(self, color, age):\n",
    "        self.color = color\n",
    "        self.age = age\n",
    "\n",
    "    def __str__(self):\n",
    "        return f'{self.color}'\n",
    "        \n",
    "action_figure = Toy('Red', 10)\n",
    "    \n",
    "print(str(action_figure))        "
   ]
  },
  {
   "cell_type": "markdown",
   "metadata": {},
   "source": [
    "### MRO - Method Resolution Order\n"
   ]
  },
  {
   "cell_type": "code",
   "execution_count": 15,
   "metadata": {},
   "outputs": [
    {
     "data": {
      "text/plain": [
       "(__main__.D, __main__.B, __main__.C, __main__.A, object)"
      ]
     },
     "execution_count": 15,
     "metadata": {},
     "output_type": "execute_result"
    }
   ],
   "source": [
    "class A:\n",
    "    num = 20\n",
    "    \n",
    "    \n",
    "class B(A):\n",
    "    pass\n",
    "\n",
    "class C(A):\n",
    "    num = 1\n",
    "    \n",
    "class D(B,C):\n",
    "    pass\n",
    "\n",
    "D.__mro__"
   ]
  },
  {
   "cell_type": "code",
   "execution_count": null,
   "metadata": {},
   "outputs": [],
   "source": []
  }
 ],
 "metadata": {
  "celltoolbar": "Raw Cell Format",
  "kernelspec": {
   "display_name": "Python 3",
   "language": "python",
   "name": "python3"
  },
  "language_info": {
   "codemirror_mode": {
    "name": "ipython",
    "version": 3
   },
   "file_extension": ".py",
   "mimetype": "text/x-python",
   "name": "python",
   "nbconvert_exporter": "python",
   "pygments_lexer": "ipython3",
   "version": "3.8.8"
  }
 },
 "nbformat": 4,
 "nbformat_minor": 2
}
