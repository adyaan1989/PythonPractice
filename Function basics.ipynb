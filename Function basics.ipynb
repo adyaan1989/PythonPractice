{
 "cells": [
  {
   "cell_type": "markdown",
   "metadata": {},
   "source": [
    "## Function basics\n",
    "\n",
    "\n",
    "\n",
    "In the context of programming, a function is a named sequence of statements that performs a computation. When you define a function, you specify the name and the sequence of statements. Later, you can “call” the function by name.\n",
    "\n",
    "def is a keyword that indicates that this is a function definition. For example:"
   ]
  },
  {
   "cell_type": "code",
   "execution_count": 25,
   "metadata": {},
   "outputs": [
    {
     "name": "stdout",
     "output_type": "stream",
     "text": [
      "with tax: 118.000000\n"
     ]
    }
   ],
   "source": [
    "def gst(bill):\n",
    "    \"\"\"adds 8% tax to a restaurant bill\"\"\"\n",
    "    bill *= 1.18\n",
    "    print('with tax: %f' %bill)\n",
    "    return bill\n",
    "###########################\n",
    "meal_cost = 100\n",
    "meal_with_tax = gst(meal_cost)"
   ]
  },
  {
   "cell_type": "markdown",
   "metadata": {},
   "source": [
    "## Practice 1\n",
    "Define a function that returns the square of a number, and call it with the argument 10."
   ]
  },
  {
   "cell_type": "code",
   "execution_count": 45,
   "metadata": {},
   "outputs": [
    {
     "name": "stdout",
     "output_type": "stream",
     "text": [
      "20 squared is: 400\n"
     ]
    },
    {
     "data": {
      "text/plain": [
       "400"
      ]
     },
     "execution_count": 45,
     "metadata": {},
     "output_type": "execute_result"
    }
   ],
   "source": [
    "def square(n):\n",
    "    \n",
    "    \"\"\"returns the square of a number\"\"\"\n",
    "    squared = n**2\n",
    "    print(\"%d squared is: %d\" % (n, squared))\n",
    "    return squared\n",
    "\n",
    "# Call the square function \n",
    "# include the number 10 between the parentheses.\n",
    "\n",
    "square(20)"
   ]
  },
  {
   "cell_type": "markdown",
   "metadata": {},
   "source": [
    "## Practice 2\n",
    "Make the same and kind of function as in Practice 1, but using two arguments:base, exponent."
   ]
  },
  {
   "cell_type": "code",
   "execution_count": 48,
   "metadata": {},
   "outputs": [
    {
     "name": "stdout",
     "output_type": "stream",
     "text": [
      "37 to the power of 4 is 1874161. \n"
     ]
    },
    {
     "data": {
      "text/plain": [
       "1874161"
      ]
     },
     "execution_count": 48,
     "metadata": {},
     "output_type": "execute_result"
    }
   ],
   "source": [
    "def power(base, exponent):\n",
    "    result = base ** exponent\n",
    "    print(\"%d to the power of %d is %d. \"%(base, exponent, result))\n",
    "    \n",
    "power(37,4)"
   ]
  },
  {
   "cell_type": "code",
   "execution_count": 55,
   "metadata": {},
   "outputs": [
    {
     "name": "stdout",
     "output_type": "stream",
     "text": [
      "37 to the power of 4 is: 1874161\n"
     ]
    }
   ],
   "source": [
    "def power(base, exponent):\n",
    "    result = base ** exponent\n",
    "    print(f\"{base} to the power of {exponent} is: {result}\")\n",
    "    \n",
    "power(37,4)"
   ]
  },
  {
   "cell_type": "markdown",
   "metadata": {},
   "source": [
    "## Practice 3\n",
    "Define one_good_turn (which adds 1 to the number it takes in as an argument) and deserves_another (which adds 2).\n",
    "\n",
    "Change the body of deserves_another so that it always adds 2 to the output of one_good_turn"
   ]
  },
  {
   "cell_type": "code",
   "execution_count": 60,
   "metadata": {},
   "outputs": [
    {
     "data": {
      "text/plain": [
       "10"
      ]
     },
     "execution_count": 60,
     "metadata": {},
     "output_type": "execute_result"
    }
   ],
   "source": [
    "def one_good_turn(n):\n",
    "    return n + 1\n",
    "\n",
    "def deserves_another(n):\n",
    "    return one_good_turn (n) +2\n",
    "\n",
    "#call the function\n",
    "deserves_another(7)"
   ]
  },
  {
   "cell_type": "code",
   "execution_count": 57,
   "metadata": {},
   "outputs": [
    {
     "data": {
      "text/plain": [
       "4"
      ]
     },
     "execution_count": 57,
     "metadata": {},
     "output_type": "execute_result"
    }
   ],
   "source": [
    "one_good_turn(3)"
   ]
  },
  {
   "cell_type": "code",
   "execution_count": 58,
   "metadata": {},
   "outputs": [
    {
     "data": {
      "text/plain": [
       "5"
      ]
     },
     "execution_count": 58,
     "metadata": {},
     "output_type": "execute_result"
    }
   ],
   "source": [
    "deserves_another(2)"
   ]
  },
  {
   "cell_type": "code",
   "execution_count": null,
   "metadata": {},
   "outputs": [],
   "source": []
  }
 ],
 "metadata": {
  "kernelspec": {
   "display_name": "Python 3",
   "language": "python",
   "name": "python3"
  },
  "language_info": {
   "codemirror_mode": {
    "name": "ipython",
    "version": 3
   },
   "file_extension": ".py",
   "mimetype": "text/x-python",
   "name": "python",
   "nbconvert_exporter": "python",
   "pygments_lexer": "ipython3",
   "version": "3.8.5"
  }
 },
 "nbformat": 4,
 "nbformat_minor": 2
}
