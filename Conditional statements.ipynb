{
 "cells": [
  {
   "cell_type": "markdown",
   "metadata": {},
   "source": [
    "## Conditional statements\n",
    "if is a conditional statement that executes some specified code after checking if its expression is True.\n",
    "\n",
    "### Practice 1\n",
    "Run this code and see what happend:"
   ]
  },
  {
   "cell_type": "code",
   "execution_count": 30,
   "metadata": {},
   "outputs": [
    {
     "name": "stdout",
     "output_type": "stream",
     "text": [
      "x is a large numer\n"
     ]
    }
   ],
   "source": [
    "x = 111\n",
    "if x > 2:\n",
    "    print('x is a large numer')\n",
    "    \n",
    "    \n",
    "else:\n",
    "     print('x is not graterthan from value the given value')"
   ]
  },
  {
   "cell_type": "code",
   "execution_count": 51,
   "metadata": {},
   "outputs": [],
   "source": [
    "def find_value(x):\n",
    "    if x > 9:\n",
    "        \n",
    "        print('x is a large number from given number')\n",
    "    \n",
    "    elif x == 9:\n",
    "        print('x is equal to given value')\n",
    "    \n",
    "    elif x != 2:\n",
    "        print('x is not equal values')\n",
    "        \n",
    "    \n",
    "        "
   ]
  },
  {
   "cell_type": "code",
   "execution_count": 52,
   "metadata": {},
   "outputs": [
    {
     "name": "stdout",
     "output_type": "stream",
     "text": [
      "x is equal to given value\n"
     ]
    }
   ],
   "source": [
    "find_value(9)"
   ]
  },
  {
   "cell_type": "markdown",
   "metadata": {},
   "source": [
    "## Practice-2"
   ]
  },
  {
   "cell_type": "code",
   "execution_count": 66,
   "metadata": {},
   "outputs": [
    {
     "name": "stdout",
     "output_type": "stream",
     "text": [
      "I also don't get printed!\n"
     ]
    }
   ],
   "source": [
    "if 8 > 9:\n",
    "    print('I dont printed')\n",
    "\n",
    "elif 9 < 8:\n",
    "    print('I get printed')\n",
    "    \n",
    "else:\n",
    "    print(\"I also don't get printed!\")"
   ]
  },
  {
   "cell_type": "code",
   "execution_count": null,
   "metadata": {},
   "outputs": [],
   "source": []
  }
 ],
 "metadata": {
  "kernelspec": {
   "display_name": "Python 3",
   "language": "python",
   "name": "python3"
  },
  "language_info": {
   "codemirror_mode": {
    "name": "ipython",
    "version": 3
   },
   "file_extension": ".py",
   "mimetype": "text/x-python",
   "name": "python",
   "nbconvert_exporter": "python",
   "pygments_lexer": "ipython3",
   "version": "3.8.5"
  }
 },
 "nbformat": 4,
 "nbformat_minor": 2
}
