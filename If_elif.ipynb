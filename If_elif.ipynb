{
 "cells": [
  {
   "cell_type": "markdown",
   "metadata": {},
   "source": [
    "### let's create a programe of online shopping with if and elif"
   ]
  },
  {
   "cell_type": "code",
   "execution_count": 1,
   "metadata": {},
   "outputs": [
    {
     "name": "stderr",
     "output_type": "stream",
     "text": [
      "C:\\Users\\shanusingh\\AppData\\Local\\Continuum\\anaconda3\\lib\\site-packages\\ipykernel\\parentpoller.py:116: UserWarning: Parent poll failed.  If the frontend dies,\n",
      "                the kernel may be left running.  Please let us know\n",
      "                about your system (bitness, Python, etc.) at\n",
      "                ipython-dev@scipy.org\n",
      "  ipython-dev@scipy.org\"\"\")\n"
     ]
    }
   ],
   "source": [
    "cart = \"Mixer Grander\"\n"
   ]
  },
  {
   "cell_type": "code",
   "execution_count": 2,
   "metadata": {},
   "outputs": [
    {
     "name": "stdout",
     "output_type": "stream",
     "text": [
      "Mixer Grander\n"
     ]
    }
   ],
   "source": [
    "if cart == \"Pen Tab\":\n",
    "    print('Pen tab')\n",
    "    print('Price 10000/- with 5 years of warranty')\n",
    "    print('*** Specification ***')\n",
    "    print('Comfirtble with Windows 10 and Mac')\n",
    "\n",
    "elif cart == \"Mixer Grander\":\n",
    "    print('Mixer Grander')\n",
    "    \n",
    "elif cart == 'Heater':\n",
    "    print('Heater')\n",
    "\n",
    "else:\n",
    "    print('Remove the all cart items')\n",
    "    \n",
    " "
   ]
  },
  {
   "cell_type": "markdown",
   "metadata": {},
   "source": [
    "### Programe with Bolean"
   ]
  },
  {
   "cell_type": "code",
   "execution_count": 3,
   "metadata": {},
   "outputs": [],
   "source": [
    "is_old = False\n",
    "is_licence = False\n"
   ]
  },
  {
   "cell_type": "code",
   "execution_count": 4,
   "metadata": {},
   "outputs": [
    {
     "name": "stdout",
     "output_type": "stream",
     "text": [
      "You are not old enough to Drive and you dont have licenced!\n"
     ]
    }
   ],
   "source": [
    "if is_old:\n",
    "    print(\"You are old enough to Drive!\")\n",
    "    \n",
    "elif is_licence:\n",
    "    print('You have licenced to Drive!')\n",
    "    \n",
    "else:\n",
    "    print('You are not old enough to Drive and you dont have licenced!')\n",
    "    "
   ]
  },
  {
   "cell_type": "code",
   "execution_count": 5,
   "metadata": {},
   "outputs": [],
   "source": [
    "is_age = 10\n"
   ]
  },
  {
   "cell_type": "code",
   "execution_count": 6,
   "metadata": {},
   "outputs": [
    {
     "name": "stdout",
     "output_type": "stream",
     "text": [
      "you are not old enough to Drive!\n"
     ]
    }
   ],
   "source": [
    "if is_age != 10:\n",
    "    print(\"you are old enough to Drive!\")\n",
    "else:\n",
    "    print(\"you are not old enough to Drive!\")"
   ]
  },
  {
   "cell_type": "markdown",
   "metadata": {},
   "source": [
    "is_age = 155\n",
    "\n",
    "if is_age >= 18:\n",
    "    print('You are old enough to Drive')\n",
    "    \n",
    "else:\n",
    "    print('you are not old enough to Drive!')"
   ]
  },
  {
   "cell_type": "markdown",
   "metadata": {},
   "source": [
    "### Exercise: Logical Operators\n"
   ]
  },
  {
   "cell_type": "code",
   "execution_count": 58,
   "metadata": {},
   "outputs": [],
   "source": [
    "is_magician = False\n",
    "is_expert = False"
   ]
  },
  {
   "cell_type": "code",
   "execution_count": 60,
   "metadata": {},
   "outputs": [
    {
     "name": "stdout",
     "output_type": "stream",
     "text": [
      "You need magic power\n"
     ]
    }
   ],
   "source": [
    "# check if magician and expert:\n",
    "\n",
    "if is_expert and is_magician:\n",
    "    print(\"Yes! you are a master magician!\")\n",
    "\n",
    "# check if magician but not expert:\n",
    "\n",
    "elif is_magician and not is_expert:\n",
    "    print('At least you are getting there!')\n",
    "\n",
    "# if you are not a magician: you need magic power    \n",
    "elif not is_magician:\n",
    "    print('You need magic power')\n",
    "    "
   ]
  },
  {
   "cell_type": "code",
   "execution_count": 34,
   "metadata": {},
   "outputs": [
    {
     "name": "stdout",
     "output_type": "stream",
     "text": [
      "Possitive or zero\n"
     ]
    }
   ],
   "source": [
    "# Program checks if the number is positive or negative\n",
    "# And displays an appropriate message\n",
    "\n",
    "num = -3\n",
    "num = '-2'\n",
    "num = 0.4\n",
    "\n",
    "# let's try these tow variations\n",
    "\n",
    "if num >= 0:\n",
    "    print('Possitive or zero')\n",
    "\n",
    "else:\n",
    "    print('Nagative number')\n"
   ]
  },
  {
   "cell_type": "code",
   "execution_count": 40,
   "metadata": {},
   "outputs": [
    {
     "name": "stdout",
     "output_type": "stream",
     "text": [
      "positive number\n"
     ]
    }
   ],
   "source": [
    "# In this program, \n",
    "# we check if the number is positive or\n",
    "# negative or zero and \n",
    "# display an appropriate message\n",
    "\n",
    "num = 10\n",
    "\n",
    "if num > 0:\n",
    "    print('positive number')\n",
    "    \n",
    "elif num ==0:\n",
    "    print('zero')\n",
    "    \n",
    "else:\n",
    "    print('Nagative number')\n",
    "        \n",
    "        \n",
    "    \n",
    "    "
   ]
  },
  {
   "cell_type": "code",
   "execution_count": 63,
   "metadata": {},
   "outputs": [
    {
     "name": "stdout",
     "output_type": "stream",
     "text": [
      "enter any number: 1\n",
      "positive number\n"
     ]
    }
   ],
   "source": [
    "##Python Nested if Example\n",
    "\n",
    "# In this program, we input a number\n",
    "# check if the number is positive or\n",
    "# negative or zero and display\n",
    "# an appropriate message\n",
    "# This time we use nested if\n",
    "\n",
    "num = float(input('enter any number: '))\n",
    "\n",
    "if num >= 0:\n",
    "    if num == 0:\n",
    "        print('Zero')\n",
    "        \n",
    "        \n",
    "    else:\n",
    "        print('positive number')\n",
    "        \n",
    "else:\n",
    "    print(\"Nagative number\")\n"
   ]
  },
  {
   "cell_type": "code",
   "execution_count": 88,
   "metadata": {},
   "outputs": [
    {
     "name": "stdout",
     "output_type": "stream",
     "text": [
      "Stay away, untill you have been completed age 18\n"
     ]
    }
   ],
   "source": [
    "\n",
    "\n",
    "is_password = False\n",
    "is_age = False\n",
    "\n",
    "if is_password:\n",
    "    print('you have successfuly login in the portal')\n",
    "    \n",
    "elif is_age:\n",
    "    print('you have enough age to work on portal')\n",
    "    \n",
    "else:\n",
    "    print('Stay away, untill you have been completed age 18')\n"
   ]
  },
  {
   "cell_type": "code",
   "execution_count": 89,
   "metadata": {},
   "outputs": [
    {
     "name": "stdout",
     "output_type": "stream",
     "text": [
      "you have successfuly login in the portal and you have enough age for work\n"
     ]
    }
   ],
   "source": [
    "#To be checked if he/she has logged and age ok then person should be login on portal\n",
    "\n",
    "is_password = True\n",
    "is_age = True\n",
    "\n",
    "if is_password and is_age:\n",
    "    print('you have successfuly login in the portal and you have enough age for work')\n",
    "    \n",
    "    \n",
    "else:\n",
    "    print('Stay away, untill you have been completed age 18')\n"
   ]
  },
  {
   "cell_type": "code",
   "execution_count": 1,
   "metadata": {},
   "outputs": [],
   "source": [
    "import numpy as np\n",
    "\n",
    "a = np.array([1,2,3,2,3,4,3,4,5,6])\n",
    "b = np.array([7,2,10,2,7,4,9,4,9,8])"
   ]
  },
  {
   "cell_type": "code",
   "execution_count": 12,
   "metadata": {},
   "outputs": [],
   "source": [
    "def comm(a, b):\n",
    "    a_b = (set(a) & set(b))\n",
    "    return a_b\n",
    "    \n"
   ]
  },
  {
   "cell_type": "code",
   "execution_count": 13,
   "metadata": {},
   "outputs": [
    {
     "name": "stdout",
     "output_type": "stream",
     "text": [
      "{2, 4}\n"
     ]
    }
   ],
   "source": [
    "print(comm(a,b))"
   ]
  },
  {
   "cell_type": "code",
   "execution_count": 15,
   "metadata": {},
   "outputs": [
    {
     "name": "stdout",
     "output_type": "stream",
     "text": [
      "2\n",
      "4\n"
     ]
    }
   ],
   "source": [
    "for num in set(a) & set(b):\n",
    "    print(num)"
   ]
  },
  {
   "cell_type": "code",
   "execution_count": 18,
   "metadata": {},
   "outputs": [],
   "source": [
    "import pandas as pd\n",
    "\n",
    "df = pd.DataFrame([[1,2,3, np.nan,4],\n",
    "                 [2,np.nan,5,6,5]])"
   ]
  },
  {
   "cell_type": "code",
   "execution_count": 19,
   "metadata": {},
   "outputs": [
    {
     "data": {
      "text/html": [
       "<div>\n",
       "<style scoped>\n",
       "    .dataframe tbody tr th:only-of-type {\n",
       "        vertical-align: middle;\n",
       "    }\n",
       "\n",
       "    .dataframe tbody tr th {\n",
       "        vertical-align: top;\n",
       "    }\n",
       "\n",
       "    .dataframe thead th {\n",
       "        text-align: right;\n",
       "    }\n",
       "</style>\n",
       "<table border=\"1\" class=\"dataframe\">\n",
       "  <thead>\n",
       "    <tr style=\"text-align: right;\">\n",
       "      <th></th>\n",
       "      <th>0</th>\n",
       "      <th>1</th>\n",
       "      <th>2</th>\n",
       "      <th>3</th>\n",
       "      <th>4</th>\n",
       "    </tr>\n",
       "  </thead>\n",
       "  <tbody>\n",
       "    <tr>\n",
       "      <th>0</th>\n",
       "      <td>1</td>\n",
       "      <td>2.0</td>\n",
       "      <td>3</td>\n",
       "      <td>NaN</td>\n",
       "      <td>4</td>\n",
       "    </tr>\n",
       "    <tr>\n",
       "      <th>1</th>\n",
       "      <td>2</td>\n",
       "      <td>NaN</td>\n",
       "      <td>5</td>\n",
       "      <td>6.0</td>\n",
       "      <td>5</td>\n",
       "    </tr>\n",
       "  </tbody>\n",
       "</table>\n",
       "</div>"
      ],
      "text/plain": [
       "   0    1  2    3  4\n",
       "0  1  2.0  3  NaN  4\n",
       "1  2  NaN  5  6.0  5"
      ]
     },
     "execution_count": 19,
     "metadata": {},
     "output_type": "execute_result"
    }
   ],
   "source": [
    "df"
   ]
  },
  {
   "cell_type": "code",
   "execution_count": 33,
   "metadata": {},
   "outputs": [
    {
     "ename": "AttributeError",
     "evalue": "module 'numpy' has no attribute 'rrange'",
     "output_type": "error",
     "traceback": [
      "\u001b[1;31m---------------------------------------------------------------------------\u001b[0m",
      "\u001b[1;31mAttributeError\u001b[0m                            Traceback (most recent call last)",
      "\u001b[1;32m<ipython-input-33-9f6a3d9cfb05>\u001b[0m in \u001b[0;36m<module>\u001b[1;34m\u001b[0m\n\u001b[0;32m      1\u001b[0m d = {'key':[\"X\",\"X\",\"Y\",\"Y\",\"Z\"],\n\u001b[1;32m----> 2\u001b[1;33m      \u001b[1;34m'X'\u001b[0m\u001b[1;33m:\u001b[0m\u001b[0mnp\u001b[0m\u001b[1;33m.\u001b[0m\u001b[0mrrange\u001b[0m\u001b[1;33m(\u001b[0m\u001b[1;36m5\u001b[0m\u001b[1;33m)\u001b[0m\u001b[1;33m,\u001b[0m\u001b[1;33m\u001b[0m\u001b[1;33m\u001b[0m\u001b[0m\n\u001b[0m\u001b[0;32m      3\u001b[0m      'Y':[3,4,5,6,7]}\n",
      "\u001b[1;32mC:\\ProgramData\\Anaconda3\\lib\\site-packages\\numpy\\__init__.py\u001b[0m in \u001b[0;36m__getattr__\u001b[1;34m(attr)\u001b[0m\n\u001b[0;32m    301\u001b[0m                 \u001b[1;32mreturn\u001b[0m \u001b[0mTester\u001b[0m\u001b[1;33m\u001b[0m\u001b[1;33m\u001b[0m\u001b[0m\n\u001b[0;32m    302\u001b[0m \u001b[1;33m\u001b[0m\u001b[0m\n\u001b[1;32m--> 303\u001b[1;33m             raise AttributeError(\"module {!r} has no attribute \"\n\u001b[0m\u001b[0;32m    304\u001b[0m                                  \"{!r}\".format(__name__, attr))\n\u001b[0;32m    305\u001b[0m \u001b[1;33m\u001b[0m\u001b[0m\n",
      "\u001b[1;31mAttributeError\u001b[0m: module 'numpy' has no attribute 'rrange'"
     ]
    }
   ],
   "source": [
    "d = {'key':[\"X\",\"X\",\"Y\",\"Y\",\"Z\"],\n",
    "     'X':np.rrange(5),\n",
    "     'Y':[3,4,5,6,7]}"
   ]
  },
  {
   "cell_type": "code",
   "execution_count": null,
   "metadata": {},
   "outputs": [],
   "source": []
  }
 ],
 "metadata": {
  "kernelspec": {
   "display_name": "Python 3",
   "language": "python",
   "name": "python3"
  },
  "language_info": {
   "codemirror_mode": {
    "name": "ipython",
    "version": 3
   },
   "file_extension": ".py",
   "mimetype": "text/x-python",
   "name": "python",
   "nbconvert_exporter": "python",
   "pygments_lexer": "ipython3",
   "version": "3.8.8"
  }
 },
 "nbformat": 4,
 "nbformat_minor": 2
}
