{
 "cells": [
  {
   "cell_type": "markdown",
   "metadata": {},
   "source": [
    "#### Python List Comprehensions: Explained Visually\n",
    "\n",
    "Sometimes a programming design pattern becomes common enough to warrant its own special syntax. Python’s list comprehensions are a prime example of such a syntactic sugar.\n",
    "\n",
    "List comprehensions in Python are great, but mastering them can be tricky because they don’t solve a new problem: they just provide a new syntax to solve an existing problem.\n",
    "\n",
    "Let’s learn what list comprehensions are and how to identify when to use them.\n",
    "\n",
    "\n",
    "### What are list comprehensions?\n",
    "\n",
    "List comprehensions are a tool for transforming one list (any [iterable](https://docs.python.org/3/glossary.html#term-iterable) actually) into another list. During this transformation, elements can be conditionally included in the new list and each element can be transformed as needed.\n",
    "\n",
    "If you’re familiar with functional programming, you can think of list comprehensions as syntactic sugar for a `filter` followed by a `map`:"
   ]
  },
  {
   "cell_type": "code",
   "execution_count": 16,
   "metadata": {},
   "outputs": [
    {
     "name": "stdout",
     "output_type": "stream",
     "text": [
      "odd number * 2 with each [46, 38, 2, 6, 10, 22]\n"
     ]
    }
   ],
   "source": [
    "numbers = [23, 24, 19, 0, 18, 20, 1, 3, 5, 100, 11, 54]\n",
    "dobuled_odds = map(lambda n: n*2, filter(lambda n: n % 2 == 1, numbers))\n",
    "dobuled_odds = [n * 2 for n in numbers if n % 2==1]\n",
    "print(\"odd number * 2 with each\", dobuled_odds)\n"
   ]
  },
  {
   "cell_type": "markdown",
   "metadata": {},
   "source": [
    "### From loops to comprehensions\n",
    "Every list comprehension can be rewritten as a for `loop` but not every for `loop` can be rewritten as a list comprehension.\n",
    "\n",
    "The key to understanding when to use list comprehensions is to practice identifying problems that smell like list comprehensions.\n",
    "\n",
    "If you can rewrite your code to look just like this `for loop`, you can also rewrite it as a list comprehension:"
   ]
  },
  {
   "cell_type": "code",
   "execution_count": 18,
   "metadata": {},
   "outputs": [
    {
     "data": {
      "text/plain": [
       "'\\nnew_things =[]\\nfor item in old_things:\\n    if condition_based_on(item):\\n        new_things.append(\"Somthing with\"+ item)'"
      ]
     },
     "execution_count": 18,
     "metadata": {},
     "output_type": "execute_result"
    }
   ],
   "source": [
    "\"\"\"\n",
    "new_things =[]\n",
    "for item in old_things:\n",
    "    if condition_based_on(item):\n",
    "        new_things.append(\"Somthing with\"+ item)\"\"\""
   ]
  },
  {
   "cell_type": "markdown",
   "metadata": {},
   "source": [
    "### List Comprehensions: The Animated Movie™\n",
    "\n",
    "That’s great, but how did we do that?\n",
    "\n",
    "We copy-pasted our way from a for loop to a list comprehension.\n"
   ]
  },
  {
   "cell_type": "code",
   "execution_count": 23,
   "metadata": {},
   "outputs": [
    {
     "name": "stdout",
     "output_type": "stream",
     "text": [
      "46 38 2 6 10 22 "
     ]
    },
    {
     "data": {
      "text/plain": [
       "[46, 38, 2, 6, 10, 22]"
      ]
     },
     "execution_count": 23,
     "metadata": {},
     "output_type": "execute_result"
    }
   ],
   "source": [
    "numbers = [23, 24, 19, 0, 18, 20, 1, 3, 5, 100, 11, 54]\n",
    "\n",
    "for n in numbers:\n",
    "    if n % 2==1:\n",
    "        print(n*2, end=' ')\n",
    "        \n",
    "odd =[n * 2 for n in numbers if n%2==1]\n",
    "odd"
   ]
  },
  {
   "cell_type": "code",
   "execution_count": 26,
   "metadata": {},
   "outputs": [
    {
     "name": "stdout",
     "output_type": "stream",
     "text": [
      "User-ID :12\n",
      "Password: 12\n"
     ]
    }
   ],
   "source": [
    "user_ID = input('User-ID :')\n",
    "user_pwd = input('Password: ')\n",
    "\n",
    "login_details = {user_ID:user_pwd}"
   ]
  },
  {
   "cell_type": "code",
   "execution_count": 33,
   "metadata": {},
   "outputs": [
    {
     "ename": "IndentationError",
     "evalue": "expected an indented block (<ipython-input-33-546bf13554bf>, line 4)",
     "output_type": "error",
     "traceback": [
      "\u001b[1;36m  File \u001b[1;32m\"<ipython-input-33-546bf13554bf>\"\u001b[1;36m, line \u001b[1;32m4\u001b[0m\n\u001b[1;33m    elif user == user_pwd:\u001b[0m\n\u001b[1;37m    ^\u001b[0m\n\u001b[1;31mIndentationError\u001b[0m\u001b[1;31m:\u001b[0m expected an indented block\n"
     ]
    }
   ],
   "source": []
  },
  {
   "cell_type": "code",
   "execution_count": null,
   "metadata": {},
   "outputs": [],
   "source": []
  }
 ],
 "metadata": {
  "kernelspec": {
   "display_name": "Python 3",
   "language": "python",
   "name": "python3"
  },
  "language_info": {
   "codemirror_mode": {
    "name": "ipython",
    "version": 3
   },
   "file_extension": ".py",
   "mimetype": "text/x-python",
   "name": "python",
   "nbconvert_exporter": "python",
   "pygments_lexer": "ipython3",
   "version": "3.8.5"
  }
 },
 "nbformat": 4,
 "nbformat_minor": 4
}
