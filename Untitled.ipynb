{
 "cells": [
  {
   "cell_type": "code",
   "execution_count": 1,
   "id": "aeb27cde",
   "metadata": {},
   "outputs": [],
   "source": [
    "import pandas as pd\n",
    "import numpy as np"
   ]
  },
  {
   "cell_type": "code",
   "execution_count": 2,
   "id": "6e1d8c7b",
   "metadata": {},
   "outputs": [
    {
     "name": "stdout",
     "output_type": "stream",
     "text": [
      "d\n"
     ]
    },
    {
     "ename": "ValueError",
     "evalue": "invalid literal for int() with base 10: 'd'",
     "output_type": "error",
     "traceback": [
      "\u001b[1;31m---------------------------------------------------------------------------\u001b[0m",
      "\u001b[1;31mValueError\u001b[0m                                Traceback (most recent call last)",
      "\u001b[1;32m<ipython-input-2-58d73603e098>\u001b[0m in \u001b[0;36m<module>\u001b[1;34m\u001b[0m\n\u001b[0;32m     13\u001b[0m \u001b[1;33m\u001b[0m\u001b[0m\n\u001b[0;32m     14\u001b[0m \u001b[1;31m#input for number of data points\u001b[0m\u001b[1;33m\u001b[0m\u001b[1;33m\u001b[0m\u001b[1;33m\u001b[0m\u001b[0m\n\u001b[1;32m---> 15\u001b[1;33m \u001b[0mn\u001b[0m \u001b[1;33m=\u001b[0m \u001b[0mint\u001b[0m\u001b[1;33m(\u001b[0m\u001b[0minput\u001b[0m\u001b[1;33m(\u001b[0m\u001b[1;33m)\u001b[0m\u001b[1;33m)\u001b[0m\u001b[1;33m\u001b[0m\u001b[1;33m\u001b[0m\u001b[0m\n\u001b[0m\u001b[0;32m     16\u001b[0m \u001b[1;33m\u001b[0m\u001b[0m\n\u001b[0;32m     17\u001b[0m \u001b[1;31m#input for n data points. Each line contains data point denoting the type, the temperature, and the humidity in the atmosphere on a particular day.\u001b[0m\u001b[1;33m\u001b[0m\u001b[1;33m\u001b[0m\u001b[1;33m\u001b[0m\u001b[0m\n",
      "\u001b[1;31mValueError\u001b[0m: invalid literal for int() with base 10: 'd'"
     ]
    }
   ],
   "source": [
    "'''IMPORTANT: click on \"Compile & Run\" to generate an output to the written code\n",
    "ONLY this will generate scores for your code!\n",
    "Also this will help you to check correctness of your code against test cases'''\n",
    "\n",
    "import numpy as np\n",
    "import pandas as pd\n",
    "from sklearn.linear_model import LinearRegression\n",
    "\n",
    "#this is default OUTPUT. You are allowed to modify it.\n",
    "result=-404\n",
    "\n",
    "#INPUT [uncomment & modify if required] \n",
    "\n",
    "#input for number of data points\n",
    "n = int(input())\n",
    "\n",
    "#input for n data points. Each line contains data point denoting the type, the temperature, and the humidity in the atmosphere on a particular day.\n",
    "data = []\n",
    "for i in range(n):\n",
    "    data.append(input().split())\n",
    "    data[i][1] = float(data[i][1])\n",
    "    data[i][2] = float(data[i][2])\n",
    "\n",
    "#NOTE: The variable \"data\" now contains n data points. Each data point denotes the type, the temperature, and the humidity in the atmosphere on a particular day.\n",
    "\n",
    "#WRITE YOUR LOGIC HERE:\n",
    "\n",
    "lr = LinearRegression().fit\n",
    "\n",
    "   \n",
    "\n",
    "\n",
    "    \n",
    "#OUTPUT [uncomment & modify if required]\n",
    "print('%.2f'%result)\n"
   ]
  },
  {
   "cell_type": "code",
   "execution_count": 5,
   "id": "e83dd228",
   "metadata": {},
   "outputs": [],
   "source": [
    "from collections import deque"
   ]
  },
  {
   "cell_type": "code",
   "execution_count": 6,
   "id": "14e332b7",
   "metadata": {},
   "outputs": [
    {
     "name": "stdout",
     "output_type": "stream",
     "text": [
      "deque(['a', 'b', 'c', 'f', 'd'])\n"
     ]
    }
   ],
   "source": [
    "x = deque(['a', 'b', 'c'])\n",
    "x.append('f')\n",
    "x.append('d')\n",
    "print(x)"
   ]
  },
  {
   "cell_type": "code",
   "execution_count": null,
   "id": "be8e90c1",
   "metadata": {},
   "outputs": [],
   "source": []
  }
 ],
 "metadata": {
  "kernelspec": {
   "display_name": "Python 3",
   "language": "python",
   "name": "python3"
  },
  "language_info": {
   "codemirror_mode": {
    "name": "ipython",
    "version": 3
   },
   "file_extension": ".py",
   "mimetype": "text/x-python",
   "name": "python",
   "nbconvert_exporter": "python",
   "pygments_lexer": "ipython3",
   "version": "3.8.8"
  }
 },
 "nbformat": 4,
 "nbformat_minor": 5
}
