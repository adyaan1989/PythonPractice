{
 "cells": [
  {
   "cell_type": "markdown",
   "metadata": {},
   "source": [
    "# Exercises: Control flow\n",
    "\n",
    "### Exercise-1\n",
    "\n",
    "Write a program to prompt the user for hours and rate per hour to compute gross pay. Take into account that the factory gives the employee 1.5 times the hourly rate for hours worked above 40 hours.\n",
    "\n",
    "<br> Enter Hours: 45 \n",
    "<br> Rate: 10\n",
    "<br> Pay: 475.0\n"
   ]
  },
  {
   "cell_type": "code",
   "execution_count": 11,
   "metadata": {},
   "outputs": [
    {
     "name": "stdout",
     "output_type": "stream",
     "text": [
      "Enter the hours: 67\n",
      "The pay is:  805.0\n"
     ]
    }
   ],
   "source": [
    "hours = float(input('Enter the hours: '))\n",
    "rate = 10\n",
    "\n",
    "if hours < 40:\n",
    "    pay = hours * rate\n",
    "    print('The pay is: ', pay)\n",
    "else:\n",
    "    pay = 40 * rate + (hours-40) * 1.5*rate\n",
    "    print('The pay is: ', pay)\n",
    "    "
   ]
  },
  {
   "cell_type": "code",
   "execution_count": 77,
   "metadata": {},
   "outputs": [
    {
     "name": "stdout",
     "output_type": "stream",
     "text": [
      "The pay is : 475.0\n"
     ]
    },
    {
     "data": {
      "text/plain": [
       "45"
      ]
     },
     "execution_count": 77,
     "metadata": {},
     "output_type": "execute_result"
    }
   ],
   "source": [
    "#hours = float(input('Enter the hours: '))\n",
    "\n",
    "def Hours_calculation(hours, rate):\n",
    "    pay = hours * rate\n",
    "    if hours < 40:\n",
    "        rate = 10\n",
    "        print(f'The pay is {pay} and you have not completed more than 40 hours so you are not eligible for extra pay')\n",
    "        \n",
    "    else:\n",
    "        pay = 40 * rate + (hours-40)*1.5*rate\n",
    "        print('The pay is :', pay)\n",
    "    return hours    \n",
    "\n",
    "        \n",
    "#Call the function        \n",
    "\n",
    "Hours_calculation(45, 10)        "
   ]
  },
  {
   "cell_type": "code",
   "execution_count": 126,
   "metadata": {},
   "outputs": [
    {
     "name": "stdout",
     "output_type": "stream",
     "text": [
      "Enter Month Days here: 31\n",
      "Enter paid days here: 32\n",
      "The net pay is based on gross and full month working:  79000.0\n"
     ]
    }
   ],
   "source": [
    "basic = 50000\n",
    "HRA = basic * 50/100\n",
    "Convyance_All = 4000\n",
    "PF = basic * 12/100\n",
    "\n",
    "Gross = basic + HRA + Convyance_All + PF\n",
    "deduction = PF\n",
    "take_home = Gross - deduction\n",
    "\n",
    "Month_days = int(input('Enter Month Days here: '))\n",
    "Paid_days = float(input('Enter paid days here: '))\n",
    "\n",
    "if Paid_days < 31:\n",
    "    net_pay = take_home/Month_days*Paid_days\n",
    "    print('The net pay is based on your working hours: ', net_pay)\n",
    "    \n",
    "else: \n",
    "    net_pay = take_home\n",
    "    print('The net pay is based on gross and full month working: ', net_pay)   \n",
    "    \n"
   ]
  },
  {
   "cell_type": "markdown",
   "metadata": {},
   "source": [
    "### Exercise-2\n",
    "Pig Latin is a language game, where you move the first letter of the word to the end and add \"ay.\" So \"Python\" becomes \"ythonpay.\" To write a Pig Latin translator in Python, here are the steps we'll need to take:\n",
    "\n",
    "<br> 1) Ask the user to input a word in English.\n",
    "<br> 2) Make sure the user entered a valid word.\n",
    "<br> 3) Convert the word from English to Pig Latin.\n",
    "<br> 4) Display the translation result.\n",
    "\n",
    "First define a variable called pyg equal to \"ay\" and ask the user to enter a word. Save the results of raw_input() in a variable called original. Then add an if statement that checks that len(original) is greater than zero AND that the word the user enters contains only alphabetical characters(Note:isalpha() returns False since the string contains non-letter characters.). If the string actually has some characters in it, print the user's word. Otherwise (i.e. an else: statement), please print \"empty\".After that checks create a new variable called word that holds the .lower()-case conversion of original. Create a new variable called first that holds word[0], the first letter of word. Create a new variable called new_wordand set it equal to the concatenation of word,first, andpyg.Setnew_wordequal to the slice from the 1st index all the way to the end of new_word. Use[1:len(new_word)]` to do this."
   ]
  },
  {
   "cell_type": "code",
   "execution_count": 143,
   "metadata": {},
   "outputs": [
    {
     "name": "stdout",
     "output_type": "stream",
     "text": [
      "Enter a word: word\n",
      "word\n"
     ]
    }
   ],
   "source": [
    "pyg = 'ay'\n",
    "\n",
    "original = str(input('Enter a word: '))\n",
    "\n",
    "if len(original) > 0 and original.isalpha():\n",
    "    print(original)\n",
    "    word = original.lower()\n",
    "    first = word[0]\n",
    "    new_word = word + first + pyg\n",
    "    new_word = new_word[1:len(new_word)]\n",
    "else:\n",
    "    print('empty')\n",
    "    "
   ]
  },
  {
   "cell_type": "markdown",
   "metadata": {},
   "source": [
    "### Exercise 3\n",
    "Write a program to prompt for a score between 0.0 and 1.0. If the core is out of range print an error. If the score is between 0.0 and 1.0, print a grade using the following table:\n",
    "\n",
    "Score Grade\n",
    "<br> >= 0.9 A\n",
    "<br> >= 0.8 B\n",
    "<br> >= 0.7 C\n",
    "<br> >= 0.6 D\n",
    "<br> < 0.6 F"
   ]
  },
  {
   "cell_type": "code",
   "execution_count": null,
   "metadata": {},
   "outputs": [],
   "source": [
    "score = float(input('Enter a score: '))\n",
    "\n",
    "if score >= 90:\n",
    "    print('A')\n",
    "    \n",
    "elif score >= 80:\n",
    "    print('B')\n",
    "    \n",
    "elif score >= 70:\n",
    "    print('C')\n",
    "    \n",
    "elif score >= 60:\n",
    "    print('D')\n",
    "    \n",
    "elif score < 60:\n",
    "    print('F')\n",
    "    \n",
    "else:\n",
    "    print('error')\n",
    "    "
   ]
  },
  {
   "cell_type": "markdown",
   "metadata": {},
   "source": [
    "### Exercise 4\n",
    "Write a programm that ask for a number to the user and clasifies it:\n",
    "\n",
    "<br> number <=2 SMALL\n",
    "<br> number <=10 MEDIUM\n",
    "<br> number rest LARGE"
   ]
  },
  {
   "cell_type": "code",
   "execution_count": null,
   "metadata": {},
   "outputs": [],
   "source": [
    "num = float(input('Enter the any numer: '))\n",
    "if num <= 5:\n",
    "    print('Small')\n",
    "elif num <= 10:\n",
    "    print('Medium')\n",
    "else:\n",
    "    print('Large')"
   ]
  },
  {
   "cell_type": "code",
   "execution_count": null,
   "metadata": {},
   "outputs": [],
   "source": []
  }
 ],
 "metadata": {
  "kernelspec": {
   "display_name": "Python 3",
   "language": "python",
   "name": "python3"
  },
  "language_info": {
   "codemirror_mode": {
    "name": "ipython",
    "version": 3
   },
   "file_extension": ".py",
   "mimetype": "text/x-python",
   "name": "python",
   "nbconvert_exporter": "python",
   "pygments_lexer": "ipython3",
   "version": "3.7.6"
  }
 },
 "nbformat": 4,
 "nbformat_minor": 2
}
