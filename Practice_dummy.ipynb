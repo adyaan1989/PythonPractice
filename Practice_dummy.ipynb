{
 "cells": [
  {
   "cell_type": "code",
   "execution_count": 1,
   "metadata": {},
   "outputs": [
    {
     "name": "stdout",
     "output_type": "stream",
     "text": [
      "Whats your name: Shanu\n",
      "Your name is Shanu\n"
     ]
    },
    {
     "data": {
      "text/plain": [
       "\"if str(name):\\n    print('Adyaan')\\nelse:\\n    print('y')\""
      ]
     },
     "execution_count": 1,
     "metadata": {},
     "output_type": "execute_result"
    }
   ],
   "source": [
    "name = input('Whats your name: ')\n",
    "print('Your name is ' + name)\n",
    "\n",
    "\"\"\"if str(name):\n",
    "    print('Adyaan')\n",
    "else:\n",
    "    print('y')\"\"\""
   ]
  },
  {
   "cell_type": "code",
   "execution_count": 4,
   "metadata": {},
   "outputs": [
    {
     "name": "stdout",
     "output_type": "stream",
     "text": [
      "What is your Age: 2\n",
      "Your age is 2\n",
      "you are not eligible for admistion\n"
     ]
    }
   ],
   "source": [
    "Age = input('What is your Age: ')\n",
    "print('Your age is ' + Age)\n",
    "\n",
    "if int(Age) > 14:\n",
    "    print('you are eligible for admistion')\n",
    "else:\n",
    "    print('you are not eligible for admistion')\n"
   ]
  },
  {
   "cell_type": "code",
   "execution_count": 5,
   "metadata": {},
   "outputs": [
    {
     "name": "stdout",
     "output_type": "stream",
     "text": [
      "Where do you put up: 3\n",
      "My location is 3\n"
     ]
    }
   ],
   "source": [
    "Location = input('Where do you put up: ')\n",
    "print('My location is ' + Location)"
   ]
  },
  {
   "cell_type": "markdown",
   "metadata": {},
   "source": [
    "### GPA as per score\n",
    "\n",
    "Marks:\n",
    "\n",
    "1) 85-100 *GPA = 4*\n",
    "\n",
    "2) 78-74 *GPA = 3.8*\n",
    "\n",
    "3) 70-77 *GPA = 3.5*\n",
    "\n",
    "4) 50-69 *GPA = 2*\n",
    "\n",
    "\n",
    "According marks we need to print GPA   "
   ]
  },
  {
   "cell_type": "code",
   "execution_count": 6,
   "metadata": {},
   "outputs": [
    {
     "name": "stdout",
     "output_type": "stream",
     "text": [
      "Give your inputs40\n",
      "your GPA is : (This is not working properly)\n",
      "1\n"
     ]
    }
   ],
   "source": [
    "\n",
    "marks = input('Give your inputs')\n",
    "\n",
    "if int(marks) >= 85:\n",
    "    gpa = 4.0\n",
    "    \n",
    "elif int(marks) >= 78 and int(marks) <85:\n",
    "    gpa = 3.8\n",
    "    \n",
    "elif int(marks) >= 70 and int(marks) <78:\n",
    "    gpa = 3.5\n",
    "    \n",
    "else:\n",
    "    gpa = 1\n",
    "    print('your GPA is : (This is not working properly)')\n",
    "    print(gpa)\n"
   ]
  },
  {
   "cell_type": "code",
   "execution_count": 7,
   "metadata": {},
   "outputs": [
    {
     "name": "stdout",
     "output_type": "stream",
     "text": [
      "What is price of apple mobile: 333\n",
      "I can buy this apple mobile\n"
     ]
    }
   ],
   "source": [
    "##Case \n",
    "# I can buy only price of 10000/- apple mobile, can't buy morethan 10000/-\n",
    "\n",
    "price = input (\"What is price of apple mobile: \")\n",
    "\n",
    "if int(price) <=10000: \n",
    "    print('I can buy this apple mobile')\n",
    "\n",
    "else:\n",
    "    print(\"Sorry I can't buy this mobile\")\n",
    "\n"
   ]
  },
  {
   "cell_type": "markdown",
   "metadata": {},
   "source": [
    "### if yes bank share price go up more than Rs.90 then i can buy else i wont buy"
   ]
  },
  {
   "cell_type": "code",
   "execution_count": 8,
   "metadata": {},
   "outputs": [
    {
     "name": "stdout",
     "output_type": "stream",
     "text": [
      "on which price will you add yes bank share in your portfolliow: 4444444\n",
      "Yes I will add 1000 of share in my holdings\n"
     ]
    }
   ],
   "source": [
    "yes_bank_share = input('on which price will you add yes bank share in your portfolliow: ')\n",
    "\n",
    "if int(yes_bank_share) > 90:\n",
    "    \n",
    "    print(\"Yes I will add 1000 of share in my holdings\")\n",
    "    \n",
    "else:\n",
    "    print(' Sorry no need to add in my portfoliow')\n",
    "    "
   ]
  },
  {
   "cell_type": "code",
   "execution_count": 9,
   "metadata": {},
   "outputs": [
    {
     "name": "stdout",
     "output_type": "stream",
     "text": [
      "What's my point: 12\n",
      " I will not go to home this week\n"
     ]
    }
   ],
   "source": [
    "# Let's see if number come 10 then i will go to home, if numbers come > 10 I wont go home.\n",
    "\n",
    "point = input(\"What's my point: \")\n",
    "\n",
    "if int(point) <= 10:\n",
    "    print(\" I will go to home sure in a week\")\n",
    "    \n",
    "else:\n",
    "    print(\" I will not go to home this week\")\n",
    "        "
   ]
  },
  {
   "cell_type": "code",
   "execution_count": 10,
   "metadata": {},
   "outputs": [
    {
     "name": "stdout",
     "output_type": "stream",
     "text": [
      "Enter your marks: 34\n",
      "Enter your marks: 34\n",
      "Enter your marks: 45\n",
      "your percentage is: 37.666666666666664\n",
      "You are fail\n"
     ]
    }
   ],
   "source": [
    "English = input(\"Enter your marks: \")\n",
    "Hindi = input(\"Enter your marks: \")\n",
    "Computer = input(\"Enter your marks: \")\n",
    "\n",
    "obtain = int(English) + int(Hindi) + int(Computer)\n",
    "total = 300 # Total of three subject\n",
    "\n",
    "percentage = (obtain/total)*100\n",
    "\n",
    "print(\"your percentage is: \" + str(percentage))\n",
    "\n",
    "#Function\n",
    "\n",
    "if percentage >= 60 :\n",
    "    print('You are pass')\n",
    "\n",
    "else:\n",
    "    print('You are fail')\n",
    "    "
   ]
  },
  {
   "cell_type": "code",
   "execution_count": null,
   "metadata": {},
   "outputs": [],
   "source": [
    "Basic = input(\"Enter you basic :\")\n",
    "HR = Basic/50*100\n",
    "Conveyance_Allowance = 4000\n",
    "Executive_Allowance = 12000\n",
    "Superannuation_Allowance = Basic/15*100\n",
    "PF = Basic/12*100\n",
    "Total = Basic + HR + Executive_Allowance + Executive_Allowance + Superannuation_Allowance + PF\n",
    "print(Total)\n"
   ]
  },
  {
   "cell_type": "code",
   "execution_count": null,
   "metadata": {},
   "outputs": [],
   "source": []
  }
 ],
 "metadata": {
  "kernelspec": {
   "display_name": "Python 3",
   "language": "python",
   "name": "python3"
  },
  "language_info": {
   "codemirror_mode": {
    "name": "ipython",
    "version": 3
   },
   "file_extension": ".py",
   "mimetype": "text/x-python",
   "name": "python",
   "nbconvert_exporter": "python",
   "pygments_lexer": "ipython3",
   "version": "3.7.4"
  }
 },
 "nbformat": 4,
 "nbformat_minor": 2
}
