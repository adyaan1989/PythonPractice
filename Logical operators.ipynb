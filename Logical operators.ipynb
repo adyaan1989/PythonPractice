{
 "cells": [
  {
   "cell_type": "raw",
   "metadata": {},
   "source": [
    "# Comparartors\n",
    "Let's start with the simplest aspect of control flow: comparators. They are use to compare expressions.\n",
    "\n",
    "#### Comparator\tMeaning\n",
    "==\tEqual to\n",
    "!=\tNot equal to\n",
    "<\tLess than\n",
    "<=\tLess than or equal to\n",
    ">\tGreater than\n",
    ">=\tGreater than or equal to\n",
    "\n",
    "Note that == compares whether two things are equal, and =assigns a value to a variable.\n",
    "\n",
    "### For example:"
   ]
  },
  {
   "cell_type": "code",
   "execution_count": 27,
   "metadata": {},
   "outputs": [
    {
     "name": "stdout",
     "output_type": "stream",
     "text": [
      "True\n",
      "True\n",
      "True\n",
      "True\n",
      "True\n",
      "True\n"
     ]
    }
   ],
   "source": [
    "print(10*2 == 10+10)\n",
    "\n",
    "print(20 != 10)\n",
    "\n",
    "print(20 < 21)\n",
    "\n",
    "print(20 <= 20)\n",
    "\n",
    "print(20 > 19)\n",
    "\n",
    "print(20 >= 20)"
   ]
  },
  {
   "cell_type": "markdown",
   "metadata": {},
   "source": [
    "### Boolean Operators\n",
    "#### and operator\n",
    "\n",
    "and checks if both the statements are True."
   ]
  },
  {
   "cell_type": "code",
   "execution_count": 42,
   "metadata": {},
   "outputs": [
    {
     "name": "stdout",
     "output_type": "stream",
     "text": [
      "1) The answer:  True\n",
      "2) The answer:  True\n",
      "3) The answer:  False\n",
      "4) The answer:  False\n"
     ]
    }
   ],
   "source": [
    "print('1) The answer: ', True and True is True) \n",
    "\n",
    "print('2) The answer: ', True and False is False)\n",
    "\n",
    "print('3) The answer: ', False and True is False)\n",
    "\n",
    "print('4) The answer: ', False and False is False)\n",
    "\n"
   ]
  },
  {
   "cell_type": "raw",
   "metadata": {},
   "source": [
    "## Practice 1\n",
    "\n",
    "Let's practice with and. Assign each variable to the appropriate boolean value.\n",
    "\n",
    "<br> Set bool_one equal to the result of False and False. <b>\n",
    "<br> Set bool_two equal to the result of -(-(-(-2))) == -2 and 4 >= 16 '**'0.5. <b>\n",
    "<br> Set bool_three equal to the result of 19 % 4 != 300 / 10 / 10 and False. <b>\n",
    "<b> Set bool_four equal to the result of -(1**2) < 2**0 and 10 % 10 <= 20 - 10 * 2. <b>\n",
    "<b>Set bool_five equal to the result ofTrue and True. <b>\n",
    "\n",
    "#### You can check the results in your interpeter:"
   ]
  },
  {
   "cell_type": "code",
   "execution_count": 56,
   "metadata": {},
   "outputs": [
    {
     "name": "stdout",
     "output_type": "stream",
     "text": [
      "bool_one = False\n",
      "bool_two = False\n",
      "bool_Three = False\n"
     ]
    }
   ],
   "source": [
    "print('bool_one =', False and False)\n",
    "\n",
    "print('bool_two =', -(-(-(-2))) == -2 and 4 >= 16 ** 0.5)\n",
    "\n",
    "print('bool_Three =', 19 % 4 != 300 / 10 and False)\n"
   ]
  },
  {
   "cell_type": "code",
   "execution_count": 58,
   "metadata": {},
   "outputs": [
    {
     "data": {
      "text/plain": [
       "True"
      ]
     },
     "execution_count": 58,
     "metadata": {},
     "output_type": "execute_result"
    }
   ],
   "source": [
    "not True is False\n",
    "not False is True"
   ]
  },
  {
   "cell_type": "code",
   "execution_count": null,
   "metadata": {},
   "outputs": [],
   "source": []
  }
 ],
 "metadata": {
  "kernelspec": {
   "display_name": "Python 3",
   "language": "python",
   "name": "python3"
  },
  "language_info": {
   "codemirror_mode": {
    "name": "ipython",
    "version": 3
   },
   "file_extension": ".py",
   "mimetype": "text/x-python",
   "name": "python",
   "nbconvert_exporter": "python",
   "pygments_lexer": "ipython3",
   "version": "3.8.8"
  }
 },
 "nbformat": 4,
 "nbformat_minor": 2
}
